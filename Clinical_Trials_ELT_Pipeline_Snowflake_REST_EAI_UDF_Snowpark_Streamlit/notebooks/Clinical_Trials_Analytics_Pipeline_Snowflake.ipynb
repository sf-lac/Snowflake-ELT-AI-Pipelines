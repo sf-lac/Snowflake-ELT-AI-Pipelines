{
 "metadata": {
  "kernelspec": {
   "display_name": "Streamlit Notebook",
   "name": "streamlit"
  },
  "lastEditStatus": {
   "notebookId": "z22undkszgboyosjb5bk",
   "authorId": "3902655946829",
   "authorName": "20LOVESNOWFLAKE25",
   "authorEmail": "lac@mechatronix.ca",
   "sessionId": "c928f4ab-4609-4ed9-8ef1-43624e7a8e19",
   "lastEditTime": 1753915992002
  }
 },
 "nbformat_minor": 5,
 "nbformat": 4,
 "cells": [
  {
   "cell_type": "code",
   "id": "3775908f-ca36-4846-8f38-5adca39217f2",
   "metadata": {
    "language": "python",
    "name": "configure_session_variables",
    "collapsed": false,
    "codeCollapsed": false
   },
   "source": "import streamlit as st\nfrom snowflake.snowpark.context import get_active_session\nsession = get_active_session()\nrole = session.get_current_role().strip('\"')\ndb = session.get_current_database()\nschema = session.get_current_schema()\nprint(session)\n",
   "execution_count": null,
   "outputs": []
  },
  {
   "cell_type": "code",
   "id": "0ca861c2-708d-4b4f-9881-83e1c42ff28d",
   "metadata": {
    "language": "sql",
    "name": "setup_context",
    "collapsed": false,
    "codeCollapsed": false
   },
   "outputs": [],
   "source": "USE ROLE {{role}};\nUSE DATABASE {{db}};\nUSE SCHEMA {{schema}};",
   "execution_count": null
  },
  {
   "cell_type": "code",
   "id": "8d50cbf4-0c8d-4950-86cb-114990437ac9",
   "metadata": {
    "language": "sql",
    "name": "create_table_raw",
    "collapsed": false,
    "codeCollapsed": false
   },
   "source": "CREATE OR REPLACE TABLE clinical_trial_raw (\n    study_id STRING, \n    study_data VARIANT\n    );",
   "execution_count": null,
   "outputs": []
  },
  {
   "cell_type": "code",
   "id": "c695373e-ac74-4b62-a1f1-08206cbd5c81",
   "metadata": {
    "language": "sql",
    "name": "create_network_rule",
    "collapsed": false,
    "codeCollapsed": false
   },
   "source": "CREATE OR REPLACE NETWORK RULE CLINICAL_TRIALS_GOV_PUBLIC_DATA_RULE \nMODE = EGRESS \nTYPE = HOST_PORT \nVALUE_LIST = ('clinicaltrials.gov')",
   "execution_count": null,
   "outputs": []
  },
  {
   "cell_type": "code",
   "id": "11165ab4-f8b6-4295-819b-9ccb34569bb8",
   "metadata": {
    "language": "sql",
    "name": "create_external_access_integration",
    "collapsed": false,
    "codeCollapsed": false
   },
   "outputs": [],
   "source": "CREATE OR REPLACE EXTERNAL ACCESS INTEGRATION CLINICAL_TRIALS_GOV_PUBLIC_DATA_INTEGRATION\nALLOWED_NETWORK_RULES = (CLINICAL_TRIALS_GOV_PUBLIC_DATA_RULE)\nENABLED = TRUE;",
   "execution_count": null
  },
  {
   "cell_type": "code",
   "id": "28536900-d3cf-4e2b-a787-ec552552bf3e",
   "metadata": {
    "language": "sql",
    "name": "create_UDF",
    "collapsed": false,
    "codeCollapsed": false
   },
   "outputs": [],
   "source": "CREATE OR REPLACE FUNCTION FETCH_ENDPOINT (URL STRING)\nreturns string\nlanguage python\nruntime_version=3.9\nhandler = 'fetch_data'\nexternal_access_integrations = (CLINICAL_TRIALS_GOV_PUBLIC_DATA_INTEGRATION)\npackages = ('requests')\nas\n$$\nimport requests\nimport _snowflake\nsession = requests.Session()\ndef fetch_data(URL):\n    response = requests.get(URL)\n    return response.json()\n$$;",
   "execution_count": null
  },
  {
   "cell_type": "code",
   "id": "df615cb5-8352-4763-b62a-280324259bf4",
   "metadata": {
    "language": "sql",
    "name": "set_endpoint_url",
    "collapsed": false,
    "codeCollapsed": false
   },
   "outputs": [],
   "source": "SET url  = 'https://clinicaltrials.gov/api/v2/studies/NCT02953860'",
   "execution_count": null
  },
  {
   "cell_type": "code",
   "id": "cc7f96f7-ad9f-41ba-bacd-8140fa6dfba0",
   "metadata": {
    "language": "sql",
    "name": "call_UDT",
    "collapsed": false,
    "codeCollapsed": false
   },
   "outputs": [],
   "source": "SELECT FETCH_ENDPOINT($url);",
   "execution_count": null
  },
  {
   "cell_type": "code",
   "id": "1120582d-7424-4632-9a1b-a70b19035b86",
   "metadata": {
    "language": "sql",
    "name": "load_raw_data",
    "collapsed": false,
    "codeCollapsed": false
   },
   "outputs": [],
   "source": "INSERT INTO clinical_trial_raw \nSELECT split_part($url, '/', -1)::STRING as study_id, \nfetch_endpoint($url)::VARIANT as study_data;\n",
   "execution_count": null
  },
  {
   "cell_type": "code",
   "id": "fbad50ec-ca02-40de-a7aa-62a897e2887f",
   "metadata": {
    "language": "sql",
    "name": "preview_data",
    "collapsed": false,
    "codeCollapsed": false
   },
   "outputs": [],
   "source": "select study_id, study_data from clinical_trial_raw;",
   "execution_count": null
  },
  {
   "cell_type": "code",
   "id": "6334f616-9d5f-40f8-a56d-23e713f4cfdc",
   "metadata": {
    "language": "python",
    "name": "imports"
   },
   "outputs": [],
   "source": "from snowflake.snowpark.functions import col, parse_json, flatten, current_timestamp, sql_expr, lit, split, \\\nconcat, concat_ws, row_number, dense_rank, listagg\nfrom snowflake.snowpark.window import Window",
   "execution_count": null
  },
  {
   "cell_type": "code",
   "id": "c5b80f27-b474-4409-b21b-56c65eb993db",
   "metadata": {
    "language": "python",
    "name": "create_snowpark_dataframe"
   },
   "outputs": [],
   "source": "df = session.table(\"clinical_trial_raw\")",
   "execution_count": null
  },
  {
   "cell_type": "code",
   "id": "ea19e4a3-8e1f-4ba6-9735-2a44527c5665",
   "metadata": {
    "language": "python",
    "name": "extract_elements_from_json"
   },
   "outputs": [],
   "source": "def extract_json_elements(df, specs, add_metadata=False, mode=\"overwrite\", table_type=\"transient\"):\n    \"\"\"\n    Extracts JSON fields from nested structure, \n    handling arrays and writing to Snowflake table.\n\n    Parameters:\n    - df: Snowpark DataFrame with `study_id` and `study_data`\n    - specs: List of dicts:\n        - json_path: List[str or list] - Path to field(s) in JSON\n        - output_columns: Dict[str, str] - Mapping of JSON keys to output column names\n        - table_name: str - Target table\n    - add_metadata: If True, adds `ingestion_time`\n    - mode: Write mode\n    \"\"\"\n    for spec in specs:\n        json_path = spec[\"json_path\"]\n        output_columns = spec[\"output_columns\"]\n        table_name = spec[\"table_name\"]\n\n        base_json = parse_json(df[\"study_data\"])\n\n        # Handle parallel extraction keys (branching)\n        if isinstance(json_path[-1], list):\n            common_path = json_path[:-1]\n            branch_keys = json_path[-1]\n        else:\n            common_path = json_path\n            branch_keys = None\n\n        # Traverse to base node\n        current = base_json\n        for key in common_path:\n            current = current[key]\n\n        select_exprs = [df[\"study_id\"].alias(\"nct_id\")]\n\n        if branch_keys:\n            for key in branch_keys:\n                if key in output_columns:\n                    select_exprs.append(\n                        current[key].cast(\"ARRAY\").alias(output_columns[key])\n                    )\n        else:\n            for json_key, output_name in output_columns.items():\n                if json_key == \"VALUE\":\n                    select_exprs.append(current.cast(\"STRING\").alias(output_name))\n                else:\n                    select_exprs.append(current[json_key].cast(\"STRING\").alias(output_name))\n\n        if add_metadata:\n            select_exprs.append(current_timestamp().alias(\"ingestion_time\"))\n\n        final_df = df.select(*select_exprs)\n\n        # Save or preview\n        final_df.write.save_as_table(table_name, mode=mode, table_type=table_type)\n        final_df.show()\n",
   "execution_count": null
  },
  {
   "cell_type": "code",
   "id": "f9ce6b4b-e095-40f6-83ad-f5dba3059886",
   "metadata": {
    "language": "python",
    "name": "create_stage_json_path_mapping"
   },
   "outputs": [],
   "source": "session.sql(\"\"\"\n    CREATE OR REPLACE STAGE clinical_trials_stage\n    DIRECTORY = (ENABLE=TRUE)\n    FILE_FORMAT = (TYPE = 'JSON')\n\"\"\").collect()\n",
   "execution_count": null
  },
  {
   "cell_type": "code",
   "id": "40323b03-b3a0-4770-96e8-503c03ad8b1d",
   "metadata": {
    "language": "python",
    "name": "define_json_path_mapping"
   },
   "outputs": [],
   "source": "# define a list of dictionaries that map JSON paths to output columns and table names for clinical trial data extraction.\n\nclinical_trial_json_path_mapping = [\n        {\n            \"json_path\": [\"protocolSection\", \"identificationModule\", [\"organization\", \"briefTitle\", \"officialTitle\"]],\n            \"output_columns\": {\"organization\": \"organization\", \"briefTitle\": \"brief_title\", \"officialTitle\": \"official_title\"},\n            \"table_name\": \"clinical_trial_identification_int\"\n        },  \n        {\n            \"json_path\": [\"protocolSection\", \"statusModule\", [\"statusVerifiedDate\", \"overallStatus\", \n                                                              \"startDateStruct\", \"primaryCompletionDateStruct\",\n                                                              \"completionDateStruct\", \"studyFirstSubmitDate\",\n                                                              \"studyFirstPostDate\", \"resultsFirstSubmitDate\",\n                                                              \"resultsFirstPostDateStruct\", \"lastUpdateSubmitDate\",\n                                                              \"lastUpdatePostDateStruct\"\n                                                             ]\n                         ],\n            \"output_columns\": {\"statusVerifiedDate\": \"status_verified_date\", \"overallStatus\": \"overall_status\", \n                               \"startDateStruct\": \"start_date\", \"primaryCompletionDateStruct\": \"primary_completion_date\", \n                               \"completionDateStruct\": \"completion_date\", \"studyFirstSubmitDate\": \"study_first_submit_date\", \n                               \"studyFirstPostDate\": \"study_first_post_date\", \"resultsFirstSubmitDate\":\"results_first_submit_date\", \n                               \"reusltsFirstPostDateStruct\": \"results_first_post_date\", \"lastUpdateSubmitDate\": \"last_update_submit_date\", \n                               \"lastUpdatePostDateStruct\": \"last_update_post_date_struct\"},\n            \"table_name\": \"clinical_trial_status_int\"\n        },\n        {\n            \"json_path\": [\"protocolSection\", \"sponsorCollaboratorsModule\", [\"leadSponsor\", \"responsibleParty\", \"collaborators\"]],\n            \"output_columns\": {\"leadSponsor\":\"lead_sponsor\", \"responsibleParty\": \"responsible_party\", \"collaborators\": \"collaborators\"},\n            \"table_name\": \"clinical_trial_sponsor_collaborator_int\"\n        }, \n        {\n            \"json_path\": [\"protocolSection\", \"descriptionModule\", [\"briefSummary\", \"detailedDescription\"]],\n            \"output_columns\": {\"briefSummary\": \"brief_summary\", \"detailedDescription\": \"detailed_description\"},\n            \"table_name\": \"clinical_trial_description_int\"\n        }, \n        {\n            \"json_path\": [\"protocolSection\", \"conditionsModule\", [\"conditions\", \"keywords\"]],\n            \"output_columns\": {\"conditions\": \"conditions\", \"keywords\": \"keywords\"},\n            \"table_name\": \"clinical_trial_conditions_int\"\n        },       \n        {   \n            \"json_path\": [\"protocolSection\", \"designModule\", [\"studyType\", \"phases\", \"designInfo\", \"enrollmentInfo\"]],\n            \"output_columns\": {\"studyType\": \"study_type\", \"phases\": \"phases\", \n                               \"designInfo\": \"design_info\", \"enrollmentInfo\": \"enrollment_info\"},\n            \"table_name\": \"clinical_trial_design_int\"\n        },\n        {\n            \"json_path\": [\"protocolSection\", \"armsInterventionsModule\", [\"armGroups\", \"interventions\"]],\n            \"output_columns\": {\"armGroups\": \"arm_groups\", \"interventions\": \"interventions\"},\n            \"table_name\": \"clinical_trial_arms_interventions_int\"\n        },       \n        {   \n            \"json_path\": [\"protocolSection\", \"outcomesModule\", [\"primaryOutcomes\", \"secondaryOutcomes\"]],\n            \"output_columns\": {\"primaryOutcomes\": \"primary_outcomes\", \"secondaryOutcomes\": \"secondary_outcomes\"},\n            \"table_name\": \"clinical_trial_outcomes_int\"\n        }, \n        {\n            \"json_path\": [\"protocolSection\", \"eligibilityModule\", [\"eligibilityCriteria\", \"healthyVolunteers\",\n                                                                   \"sex\", \"minimumAge\", \"maximumAge\", \"stdAges\"]],\n            \"output_columns\": {\"eligibilityCriteria\": \"eligibility_criteria\", \"healthyVolunteers\": \"healthy_volunteers\", \n                               \"sex\": \"sex\", \"minimumAge\": \"min_age\", \"maximumAge\": \"max_age\", \"stdAges\": \"std_ages\"},\n            \"table_name\": \"clinical_trial_eligibility_int\"\n        },\n        {\n            \"json_path\": [\"protocolSection\", \"contactsLocationsModule\", [\"overallOfficials\", \"locations\"]],\n            \"output_columns\": {\"overallOfficials\": \"officials\", \"locations\": \"locations\"}, \n            \"table_name\": \"clinical_trial_contacts_locations_int\"\n        },\n        {\n            \"json_path\": [\"resultsSection\", \"participantFlowModule\", [\"groups\"]],\n            \"output_columns\": {\"groups\": \"participant_groups\"}, \n            \"table_name\": \"clinical_trial_results_participants_int\"\n        },\n        {\n            \"json_path\": [\"resultsSection\", \"baselineCharacteristicsModule\", [\"populationDescription\", \"groups\", \"denoms\", \"measures\"]],\n            \"output_columns\": {\"populationDescription\": \"population_description\", \"groups\": \"groups\", \n                               \"denoms\": \"denoms\", \"measures\": \"measures\"}, \n            \"table_name\": \"clinical_trial_results_baseline_characteristics_int\"\n        },\n        {\n            \"json_path\": [\"resultsSection\", \"outcomeMeasuresModule\", [\"outcomeMeasures\"]],\n            \"output_columns\": {\"outcomeMeasures\": \"outcome_measures\"}, \n            \"table_name\": \"clinical_trial_results_outcome_measures_int\"\n        },\n        {\n            \"json_path\": [\"resultsSection\", \"adverseEventsModule\", [\"frequencyThreshold\", \"timeFrame\", \"description\", \n                                                                   \"eventGroups\", \"seriousEvents\", \"otherEvents\"]],\n            \"output_columns\": {\"frequencyThreshold\": \"frequency_threshold\", \"timeFrame\": \"time_frame\", \"description\": \"description\", \n                               \"eventGroups\": \"event_groups\", \"seriousEvents\": \"serious_events\", \"otherEvents\": \"other_events\"}, \n            \"table_name\": \"clinical_trial_results_adverse_events_int\"\n        },\n        {\n            \"json_path\": [\"resultsSection\", \"moreInfoModule\", [\"limitationsAndCaveats\", \"certainAgreement\"]],\n            \"output_columns\": {\"limitationsAndCaveats\": \"limitations_caveats\", \"certainAgreement\": \"certain_agreement\"}, \n            \"table_name\": \"clinical_trial_results_limitations_caveats_int\"\n        },\n        {\n            \"json_path\": [\"documentSection\", \"largeDocumentModule\", [\"largeDocs\"]],\n            \"output_columns\": {\"largeDocs\": \"clinical_documentation_SAP_ICF_Large_PDFs\"}, \n            \"table_name\": \"clinical_trial_documentation_int\"\n        },\n    ]",
   "execution_count": null
  },
  {
   "cell_type": "code",
   "id": "0bc098f0-0c3c-4211-8bcc-e5bb1a3b9fdc",
   "metadata": {
    "language": "python",
    "name": "write_mapping_to_file"
   },
   "outputs": [],
   "source": "with open(\"clinical_trial_json_path_mapping.json\",'w') as f:  \n    f.write(str(clinical_trial_json_path_mapping))\nf.close()",
   "execution_count": null
  },
  {
   "cell_type": "code",
   "id": "8b145867-f31a-4c04-b8ee-a1cef434bd7b",
   "metadata": {
    "language": "python",
    "name": "upload_specs_to_stage"
   },
   "outputs": [],
   "source": "session.file.put(\"clinical_trial_json_path_mapping.json\", \"@clinical_trials_stage\", auto_compress=False)",
   "execution_count": null
  },
  {
   "cell_type": "code",
   "id": "05589db6-00ef-4c0a-9769-2ed49d6823e0",
   "metadata": {
    "language": "sql",
    "name": "verify_upload"
   },
   "outputs": [],
   "source": "ls @clinical_trials_stage",
   "execution_count": null
  },
  {
   "cell_type": "code",
   "id": "f528a09f-d205-49b2-a22c-c25480c89116",
   "metadata": {
    "language": "python",
    "name": "load_specs_from_stage"
   },
   "outputs": [],
   "source": "import json \n\ndef load_json_path_mapping_from_stage(session, stage_path=\"@clinical_trials_stage/clinical_trial_json_path_mapping.json\"):\n    df = session.read.json(stage_path)\n    specs_str = df.collect()[0][0]\n    return json.loads(specs_str)\n",
   "execution_count": null
  },
  {
   "cell_type": "code",
   "id": "1d91ffa7-0c32-4df0-84a5-ba88b465a6d4",
   "metadata": {
    "language": "python",
    "name": "extract_clinical_trial_elements"
   },
   "outputs": [],
   "source": "specs = load_json_path_mapping_from_stage(session)\nextract_json_elements(df, specs, add_metadata=False, mode=\"overwrite\", table_type=\"transient\")",
   "execution_count": null
  },
  {
   "cell_type": "code",
   "id": "abbf1412-2379-46af-bfbd-724120dfd665",
   "metadata": {
    "language": "python",
    "name": "flatten_trial_core"
   },
   "outputs": [],
   "source": "def flatten_clinical_trial_core(session):\n    # Core Table (merge high-level modules)\n    ident_df = session.table(\"clinical_trial_identification_int\")\n    desc_df = session.table(\"clinical_trial_description_int\")\n    conditions_df = session.table(\"clinical_trial_conditions_int\")\n    sponsor_df = session.table(\"clinical_trial_sponsor_collaborator_int\")\n    officials_df = session.table(\"clinical_trial_contacts_locations_int\")\n    status_df = session.table(\"clinical_trial_status_int\")\n\n    ident_df = ident_df \\\n        .select(\"nct_id\", flatten(\"brief_title\"), \"official_title\") \\\n        .select(\"nct_id\", col(\"value\").cast(\"STRING\").alias(\"brief_title\"), \"official_title\") \\\n        .select(\"nct_id\", \"brief_title\", flatten(\"official_title\")) \\\n        .select(\"nct_id\", \"brief_title\", col(\"value\").cast(\"STRING\").alias(\"official_title\")) \n\n    desc_df = desc_df \\\n        .select(\"nct_id\", flatten(\"brief_summary\"), \"detailed_description\") \\\n        .select(\"nct_id\", col(\"value\").cast(\"STRING\").alias(\"brief_summary\"), \"detailed_description\") \\\n        .select(\"nct_id\", \"brief_summary\", flatten(\"detailed_description\")) \\\n        .select(\"nct_id\", \"brief_summary\", col(\"value\").cast(\"STRING\").alias(\"detailed_description\")) \n\n    conds_df = conditions_df \\\n        .select(\"nct_id\", flatten(\"conditions\")) \\\n        .select(\"nct_id\", col(\"value\").cast(\"STRING\").alias(\"conditions\"))\n\n    keywords_df = conditions_df \\\n        .select(\"nct_id\", flatten(\"keywords\")) \\\n        .select(\"nct_id\", col(\"value\").cast(\"STRING\").alias(\"conditions_specifics\"))\n\n    conditions_specs_df = keywords_df \\\n        .group_by(\"nct_id\") \\\n        .agg(listagg(col(\"conditions_specifics\"), \", \").alias(\"conditions_specifics\")) \n\n    conditions_df = conds_df.join(conditions_specs_df, on=\"nct_id\", how=\"inner\")\n\n    sponsor_df = sponsor_df \\\n        .select(\"nct_id\", flatten(\"lead_sponsor\"), \"collaborators\") \\\n        .select(\"nct_id\", col(\"value\")[\"name\"].cast(\"STRING\").alias(\"lead_sponsor\"), \"collaborators\") \\\n        .select(\"nct_id\", \"lead_sponsor\", flatten(\"collaborators\")) \\\n        .select(\"nct_id\", \"lead_sponsor\", col(\"value\")[\"name\"].cast(\"STRING\").alias(\"collaborators\")) \n    \n    officials_df = officials_df \\\n        .select(\"nct_id\", flatten(\"officials\")) \\\n        .select(\"nct_id\", col(\"value\")[\"name\"].cast(\"STRING\").alias(\"principal_investigator\"))\n\n    status_df = status_df \\\n        .select(\"nct_id\", flatten(\"overall_status\"), \"start_date\", \"completion_date\") \\\n        .select(\"nct_id\", col(\"value\").cast(\"STRING\").alias(\"overall_status\"), \"start_date\", \"completion_date\") \\\n        .select(\"nct_id\", \"overall_status\", flatten(\"start_date\"), \"completion_date\") \\\n        .select(\"nct_id\", \"overall_status\", col(\"value\")[\"date\"].cast(\"DATE\").alias(\"start_date\"), \"completion_date\") \\\n        .select(\"nct_id\", \"overall_status\", \"start_date\", flatten(\"completion_date\")) \\\n        .select(\"nct_id\", \"overall_status\", \"start_date\", col(\"value\")[\"date\"].cast(\"DATE\").alias(\"completion_date\"))   \n\n    clinical_trial_core_df = ident_df \\\n        .join(desc_df, \"nct_id\", \"inner\") \\\n        .join(conditions_df, \"nct_id\", \"inner\") \\\n        .join(sponsor_df, \"nct_id\", \"inner\") \\\n        .join(officials_df, \"nct_id\", \"inner\") \\\n        .join(status_df, \"nct_id\", \"inner\")\n\n   \n    clinical_trial_core_df.write.save_as_table(\n        \"clinical_trial_core_normalized\", mode=\"overwrite\", table_type=\"\"\n    )\n    \n    clinical_trial_core_df.show()\n\n    print(\"✅ Clinical Trial Core flattened and saved.\")",
   "execution_count": null
  },
  {
   "cell_type": "code",
   "id": "3efa94ac-ea1c-430f-8a12-568ccc992522",
   "metadata": {
    "language": "python",
    "name": "flatten_locations_contacts"
   },
   "outputs": [],
   "source": "def flatten_locations(session):\n    df = session.table(\"clinical_trial_contacts_locations_int\")\n\n    locations_df = df.select(\"nct_id\", flatten(\"locations\")) \\\n        .select(\"nct_id\", \n                col(\"value\")[\"facility\"].cast(\"STRING\").alias(\"facility\"),\n                col(\"value\")[\"geoPoint\"][\"lon\"].cast(\"FLOAT\").alias(\"longitude\"),\n                col(\"value\")[\"geoPoint\"][\"lat\"].cast(\"FLOAT\").alias(\"latitude\"),\n                concat_ws(lit(\" \"), lit(\"POINT(\"), \n                      col(\"value\")[\"geoPoint\"][\"lon\"].cast(\"STRING\"), \n                      concat(col(\"value\")[\"geoPoint\"][\"lat\"].cast(\"STRING\"), lit(\")\"))\n                     ).alias(\"point_wkt\"),\n                col(\"value\")[\"city\"].cast(\"STRING\").alias(\"city\"),\n                col(\"value\")[\"state\"].cast(\"STRING\").alias(\"state\"),\n                col(\"value\")[\"zip\"].cast(\"STRING\").alias(\"zip\"),\n                col(\"value\")[\"country\"].cast(\"STRING\").alias(\"country\")\n               ) \\\n\n    locations_df = locations_df.with_column(\"geo_point\", sql_expr(\"TO_GEOGRAPHY(point_wkt)\")\n)\n    \n    # generate sequence id for locations\n    window_spec = Window.partition_by(\"nct_id\").order_by(\"facility\")\n    locations_df = locations_df.with_column(\"location_id\", row_number().over(window_spec))\n\n    # drop helper column\n    locations_df = locations_df.drop(\"point_wkt\")\n\n    # Save as permanent table\n    locations_df.write.save_as_table(\"clinical_trials_locations_normalized\", mode=\"overwrite\", table_type=\"\")\n    locations_df.show()\n\n    print(\"✅ Locations flattened and saved.\")",
   "execution_count": null
  },
  {
   "cell_type": "code",
   "id": "91023d2e-4624-4cc7-8310-39844932a26d",
   "metadata": {
    "language": "python",
    "name": "flatten_design"
   },
   "outputs": [],
   "source": "def flatten_clinical_trial_design(session):\n    # Core Table (merge high-level modules)\n    design_core_df = session.table(\"clinical_trial_design_int\")\n    interventions_df = session.table(\"clinical_trial_arms_interventions_int\")\n    eligibility_df = session.table(\"clinical_trial_eligibility_int\")\n\n    design_core_df = design_core_df \\\n        .select(\"nct_id\", flatten(\"study_type\"), \"phases\", \"enrollment_info\", \"design_info\") \\\n        .select(\"nct_id\", col(\"value\").cast(\"STRING\").alias(\"study_type\"), \"phases\", \"enrollment_info\", \"design_info\") \\\n        .select(\"nct_id\", \"study_type\", flatten(\"phases\"), \"enrollment_info\", \"design_info\") \\\n        .select(\"nct_id\", \"study_type\", col(\"value\").cast(\"STRING\").alias(\"phases\"), \"enrollment_info\", \"design_info\") \\\n        .select(\"nct_id\", \"study_type\", \"phases\", flatten(\"enrollment_info\"), \"design_info\") \\\n        .select(\"nct_id\", \"study_type\", \"phases\", col(\"value\")[\"count\"].cast(\"NUMERIC\").alias(\"enrollment_info\"), \"design_info\") \\\n        .select(\"nct_id\", \"study_type\", \"phases\", \"enrollment_info\", flatten(\"design_info\")) \\\n        .select(\"nct_id\", \"study_type\", \"phases\", \"enrollment_info\", \n                col(\"value\")[\"interventionModel\"].cast(\"STRING\").alias(\"intervention_model\"), \n                col(\"value\")[\"maskingInfo\"][\"masking\"].cast(\"STRING\").alias(\"masking_info\"), \n                col(\"value\")[\"primaryPurpose\"].cast(\"STRING\").alias(\"primary_purpose\") \n               )\n\n    interventions_core_df = interventions_df \\\n        .select(\"nct_id\", flatten(\"interventions\")) \\\n        .select(\"nct_id\",  \n                col(\"value\")[\"type\"].cast(\"STRING\").alias(\"intervention_type\"), \n                col(\"value\")[\"description\"].cast(\"STRING\").alias(\"intervention_description\"), \n                col(\"value\")[\"name\"].cast(\"STRING\").alias(\"intervention_name\")\n               ) \n    \n    interventions_other_df = interventions_df \\\n        .select(\"nct_id\", flatten(\"interventions\")) \\\n        .select(\"nct_id\",                \n                col(\"value\")[\"otherNames\"].alias(\"intervention_other_names\"),\n               ) \\\n        .select(\"nct_id\", flatten(\"intervention_other_names\")) \\\n        .select(\"nct_id\", col(\"value\").cast(\"STRING\").alias(\"intervention_other_names\")) \n    \n    other_agg_df = interventions_other_df \\\n        .group_by(\"nct_id\") \\\n        .agg(listagg(col(\"intervention_other_names\"), \", \").alias(\"intervention_other_names\")) \n\n    interventions_df = interventions_core_df.join(other_agg_df, on=\"nct_id\", how=\"inner\")\n\n    eligibility_df = eligibility_df \\\n        .select(\"nct_id\", flatten(\"eligibility_criteria\"), \"healthy_volunteers\", \"sex\", \"min_age\", \"max_age\") \\\n        .select(\"nct_id\", col(\"value\").cast(\"STRING\").alias(\"eligibility_criteria\"), \"healthy_volunteers\", \"sex\", \"min_age\", \"max_age\") \\\n        .select(\"nct_id\", \"eligibility_criteria\", flatten(\"healthy_volunteers\"), \"sex\", \"min_age\", \"max_age\") \\\n        .select(\"nct_id\", \"eligibility_criteria\", col(\"value\").cast(\"BOOLEAN\").alias(\"healthy_volunteers\"), \"sex\", \"min_age\", \"max_age\") \\\n        .select(\"nct_id\", \"eligibility_criteria\", \"healthy_volunteers\", flatten(\"sex\"), \"min_age\", \"max_age\") \\\n        .select(\"nct_id\", \"eligibility_criteria\", \"healthy_volunteers\", col(\"value\").cast(\"STRING\").alias(\"sex\"), \"min_age\", \"max_age\") \\\n        .select(\"nct_id\", \"eligibility_criteria\", \"healthy_volunteers\", \"sex\", flatten(\"min_age\"), \"max_age\") \\\n        .select(\"nct_id\", \"eligibility_criteria\", \"healthy_volunteers\", \"sex\", \n                split(col(\"value\"), lit(\" \"))[0].cast(\"STRING\").alias(\"min_age\"), \"max_age\") \\\n        .select(\"nct_id\", \"eligibility_criteria\", \"healthy_volunteers\", \"sex\", \"min_age\", flatten(\"max_age\")) \\\n        .select(\"nct_id\", \"eligibility_criteria\", \"healthy_volunteers\", \"sex\", \"min_age\", \n                split(col(\"value\"), lit(\" \"))[0].cast(\"STRING\").alias(\"max_age\")\n               )\n\n    design_df = design_core_df \\\n        .join(interventions_df, \"nct_id\", \"inner\") \\\n        .join(eligibility_df, \"nct_id\", \"inner\") \n      \n    \n    design_df.write.save_as_table(\"clinical_trial_design_normalized\", mode=\"overwrite\", table_type=\"\")\n    design_df.show()\n\n    print(\"✅ Clinical trial design flattened and saved.\")\n",
   "execution_count": null
  },
  {
   "cell_type": "code",
   "id": "af249f6d-87e7-487c-89e7-0b803a35332a",
   "metadata": {
    "language": "python",
    "name": "flatten_outcomes_design"
   },
   "outputs": [],
   "source": "def flatten_design_outcomes(session):\n    df = session.table(\"clinical_trial_outcomes_int\")\n\n    outcomes_df = df.select(\"nct_id\", \"primary_outcomes\", \"secondary_outcomes\") \n\n    # Flatten primary outcomes with type column    \n    primary_df = outcomes_df.select(\"nct_id\", flatten(\"primary_outcomes\")) \\\n        .select(\n            \"nct_id\",\n            lit(\"primary\").alias(\"outcome_type\"),\n            col(\"value\")[\"measure\"].cast(\"STRING\").alias(\"measure\"),\n            col(\"value\")[\"description\"].cast(\"STRING\").alias(\"description\"),\n            col(\"value\")[\"timeFrame\"].cast(\"STRING\").alias(\"time_frame\")           \n        ) \n\n    # Flatten secondary outcomes with type column    \n    secondary_df = outcomes_df.select(\"nct_id\", flatten(\"secondary_outcomes\")) \\\n        .select(\n            \"nct_id\",\n            lit(\"secondary\").alias(\"outcome_type\"),\n            col(\"value\")[\"measure\"].cast(\"STRING\").alias(\"measure\"),\n            col(\"value\")[\"description\"].cast(\"STRING\").alias(\"description\"),\n            col(\"value\")[\"timeFrame\"].cast(\"STRING\").alias(\"time_frame\")           \n        )     \n\n    # Union both\n    all_outcomes_df = primary_df.union_all(secondary_df)\n\n    # generate sequence id for outcomes\n    window_spec = Window.order_by(\"nct_id\")\n    all_outcomes_df = all_outcomes_df.with_column(\"outcome_id\", row_number().over(window_spec))\n\n    # Drop columns in main dataframe\n    outcomes_df = outcomes_df.drop(\"primary_outcomes\", \"secondary_outcomes\")\n\n    # Join dataframes\n    all_outcomes_final_df = all_outcomes_df.join(outcomes_df, on=\"nct_id\", how=\"inner\")\n        \n    # Save as permanent table\n    all_outcomes_final_df.write.save_as_table(\"clinical_trials_design_outcomes_normalized\", mode=\"overwrite\", table_type=\"\")\n    all_outcomes_final_df.show()\n\n    print(\"✅ Design outcomes flattened and saved.\")",
   "execution_count": null
  },
  {
   "cell_type": "code",
   "id": "b61f634c-ea0a-40e8-9b08-5b211f252f4e",
   "metadata": {
    "language": "python",
    "name": "flatten_baseline"
   },
   "outputs": [],
   "source": "def flatten_baseline_measures(session):\n    df = session.table(\"clinical_trial_results_baseline_characteristics_int\")\n\n    baseline_measures_df = df.select(\"nct_id\", flatten(\"measures\")) \\\n        .select(\n            \"nct_id\",\n            col(\"value\")[\"classes\"].alias(\"classes\"),\n            col(\"value\")[\"title\"].cast(\"STRING\").alias(\"param_title\"),\n            col(\"value\")[\"paramType\"].cast(\"STRING\").alias(\"param_type\"),\n            col(\"value\")[\"unitOfMeasure\"].cast(\"STRING\").alias(\"param_unit_of_measure\")) \\\n        .select(\"nct_id\", \"param_title\", \"param_type\", \"param_unit_of_measure\", flatten(\"classes\")) \\\n        .select(\"nct_id\", \"param_title\", \"param_type\", \"param_unit_of_measure\", \n                col(\"value\")[\"title\"].cast(\"STRING\").alias(\"class_title\"),\n                col(\"value\")[\"categories\"].alias(\"categories\")) \\\n        .select(\"nct_id\", \"param_title\", \"param_type\", \"param_unit_of_measure\", \"class_title\", flatten(\"categories\")) \\\n        .select(\"nct_id\", \"param_title\", \"param_type\", \"param_unit_of_measure\", \"class_title\",\n                col(\"value\")[\"title\"].cast(\"STRING\").alias(\"category_title\"),\n                col(\"value\")[\"measurements\"].alias(\"measurements\")) \\\n        .select(\"nct_id\", \"param_title\", \"param_type\", \"param_unit_of_measure\", \"class_title\",\n                \"category_title\", flatten(\"measurements\")) \\\n        .select(\"nct_id\", \"param_title\", \"param_type\", \"param_unit_of_measure\", \"class_title\",\n                \"category_title\",\n                col(\"value\")[\"groupId\"].cast(\"STRING\").alias(\"group_id\"),\n                col(\"value\")[\"value\"].cast(\"NUMERIC\").alias(\"value\"),\n                col(\"value\")[\"lowerLimit\"].cast(\"NUMERIC\").alias(\"lower_limit\"),\n                col(\"value\")[\"upperLimit\"].cast(\"NUMERIC\").alias(\"upper_limit\")\n               ) \n    # generate sequence id for measures\n    window_spec = Window.partition_by(\"nct_id\").order_by(\"param_title\")\n    baseline_measures_df = baseline_measures_df.with_column(\"measure_id\", dense_rank().over(window_spec))  \n\n    # alternative\n    # session.sql(\"\"\"CREATE OR REPLACE SEQUENCE baseline_measure_id_seq START = 1\"\"\").collect()\n    #.with_column(\"measure_id\", sql_expr(\"measure_id_seq.nextval\")) \\\n\n       \n    # Save as permanent table\n    baseline_measures_df.write.save_as_table(\"clinical_trials_baseline_measures_normalized\", mode=\"overwrite\", table_type=\"\")\n    baseline_measures_df.show()\n\n    print(\"✅ Baseline measures flattened and saved.\")\n",
   "execution_count": null
  },
  {
   "cell_type": "code",
   "id": "2cb074f0-05e5-49e7-8287-d6231f93a04d",
   "metadata": {
    "language": "python",
    "name": "flatten_outcomes"
   },
   "outputs": [],
   "source": "def flatten_outcome_measures(session):\n    df = session.table(\"clinical_trial_results_outcome_measures_int\")\n\n    outcome_measures_df = df.select(\"nct_id\", flatten(\"outcome_measures\")) \\\n        .select(\n            \"nct_id\",\n            col(\"value\")[\"type\"].cast(\"STRING\").alias(\"outcome_type\"),\n            col(\"value\")[\"title\"].cast(\"STRING\").alias(\"outcome_title\"),\n            col(\"value\")[\"description\"].cast(\"STRING\").alias(\"outcome_description\"),\n            col(\"value\")[\"reportingStatus\"].cast(\"STRING\").alias(\"reporting_status\"),\n            col(\"value\")[\"timeFrame\"].cast(\"STRING\").alias(\"time_frame\"),\n            col(\"value\")[\"populationDescription\"].cast(\"STRING\").alias(\"population_description\"),\n            col(\"value\")[\"paramType\"].cast(\"STRING\").alias(\"param_type\"),\n            col(\"value\")[\"unitOfMeasure\"].cast(\"STRING\").alias(\"param_unit_of_measure\"),\n            col(\"value\")[\"denoms\"].alias(\"denoms\"),\n            col(\"value\")[\"classes\"].alias(\"classes\")) \\\n        .select(\"nct_id\", \"outcome_type\", \"outcome_title\", \"outcome_description\", \n                \"reporting_status\", \"time_frame\", \n                \"population_description\", \"param_type\", \"param_unit_of_measure\", flatten(\"denoms\"), \"classes\") \\\n        .select(\"nct_id\", \"outcome_type\", \"outcome_title\", \"outcome_description\", \n                \"reporting_status\", \"time_frame\", \n                \"population_description\", \"param_type\", \"param_unit_of_measure\", \n                col(\"value\")[\"counts\"].alias(\"denoms_counts\"),\n                \"classes\") \\\n        .select(\"nct_id\", \"outcome_type\", \"outcome_title\", \"outcome_description\", \n                \"reporting_status\", \"time_frame\", \n                \"population_description\", \"param_type\", \"param_unit_of_measure\", \n                flatten(\"denoms_counts\"), \"classes\") \\\n        .select(\"nct_id\", \"outcome_type\", \"outcome_title\", \"outcome_description\", \n                \"reporting_status\", \"time_frame\", \n                \"population_description\", \"param_type\", \"param_unit_of_measure\", \n                col(\"value\")[\"groupId\"].cast(\"STRING\").alias(\"denoms_group_id\"),\n                col(\"value\")[\"value\"].cast(\"NUMERIC\").alias(\"denoms_value\"),\n                \"classes\") \\\n        .select(\"nct_id\", \"outcome_type\", \"outcome_title\", \"outcome_description\", \n                \"reporting_status\", \"time_frame\", \n                \"population_description\", \"param_type\", \"param_unit_of_measure\", \n                \"denoms_group_id\", \"denoms_value\", flatten(\"classes\")) \\\n        .select(\"nct_id\", \"outcome_type\", \"outcome_title\", \"outcome_description\", \n                \"reporting_status\", \"time_frame\", \n                \"population_description\", \"param_type\", \"param_unit_of_measure\", \n                \"denoms_group_id\", \"denoms_value\",                 \n                col(\"value\")[\"title\"].cast(\"STRING\").alias(\"class_title\"),\n                col(\"value\").alias(\"categories\")) \\\n        .select(\"nct_id\", \"outcome_type\", \"outcome_title\", \"outcome_description\", \n                \"reporting_status\", \"time_frame\", \n                \"population_description\", \"param_type\", \"param_unit_of_measure\", \n                \"denoms_group_id\", \"denoms_value\", \"class_title\", flatten(\"categories\")) \\\n        .select(\"nct_id\", \"outcome_type\", \"outcome_title\", \"outcome_description\", \n                \"reporting_status\", \"time_frame\", \n                \"population_description\", \"param_type\", \"param_unit_of_measure\", \n                \"denoms_group_id\", \"denoms_value\", \"class_title\", col(\"value\").alias(\"measurements\")) \\\n        .select(\"nct_id\", \"outcome_type\", \"outcome_title\", \"outcome_description\", \n                \"reporting_status\", \"time_frame\", \n                \"population_description\", \"param_type\", \"param_unit_of_measure\", \n                \"denoms_group_id\", \"denoms_value\", \"class_title\", flatten(\"measurements\")) \\\n        .select(\"nct_id\", \"outcome_type\", \"outcome_title\", \"outcome_description\", \n                \"reporting_status\", \"time_frame\", \n                \"population_description\", \"param_type\", \"param_unit_of_measure\", \n                \"denoms_group_id\", \"denoms_value\", \"class_title\", \n                col(\"value\")[\"measurements\"].alias(\"measurement\")\n               ) \\\n        .select(\"nct_id\", \"outcome_type\", \"outcome_title\", \"outcome_description\", \n                \"reporting_status\", \"time_frame\", \n                \"population_description\", \"param_type\", \"param_unit_of_measure\", \n                \"denoms_group_id\", \"denoms_value\", \"class_title\", flatten(\"measurement\")) \\\n        .select(\"nct_id\", \"outcome_type\", \"outcome_title\", \"outcome_description\", \n                \"reporting_status\", \"time_frame\", \n                \"population_description\", \"param_type\", \"param_unit_of_measure\", \n                \"denoms_group_id\", \"denoms_value\", \"class_title\", \n                col(\"value\")[\"groupId\"].cast(\"STRING\").alias(\"measurement_group_id\"),\n                col(\"value\")[\"value\"].cast(\"NUMERIC\").alias(\"measurement_value\")                                             \n               )   \n\n    # generate sequence id for measures\n    window_spec = Window.order_by(\"nct_id\", \"outcome_type\", \"outcome_title\")\n    outcome_measures_df = outcome_measures_df.with_column(\"measure_id\", row_number().over(window_spec))   \n    \n    # Save as permanent table\n    outcome_measures_df.write.save_as_table(\"clinical_trials_outcome_measures_normalized\", mode=\"overwrite\", table_type=\"\")\n    outcome_measures_df.show()\n\n    print(\"✅ Outcome measures flattened and saved.\")\n",
   "execution_count": null
  },
  {
   "cell_type": "code",
   "id": "1c66caab-3e4d-4f5f-99e2-646418c86c89",
   "metadata": {
    "language": "python",
    "name": "flatten_aes"
   },
   "outputs": [],
   "source": "def flatten_adverse_events(session):\n    df = session.table(\"clinical_trial_results_adverse_events_int\")\n\n    adverse_events_df = df.select(\"nct_id\", flatten(\"description\"), \"time_frame\", \"frequency_threshold\", \"event_groups\",\n                                 \"serious_events\", \"other_events\") \\\n        .select(\n            \"nct_id\", \n            col(\"value\").cast(\"STRING\").alias(\"time_frame\"), \"frequency_threshold\", \"event_groups\",\n            \"serious_events\", \"other_events\") \\\n        .select(\n            \"nct_id\", \n            \"time_frame\", flatten(\"frequency_threshold\"), \"event_groups\",\n            \"serious_events\", \"other_events\") \\\n        .select(\n            \"nct_id\", \n            \"time_frame\", col(\"value\").cast(\"NUMERIC\").alias(\"frequency_threshold\"), \"event_groups\",\n            \"serious_events\", \"other_events\") \\\n        .select(\n            \"nct_id\", \n            \"time_frame\", \"frequency_threshold\", flatten(\"event_groups\"),\n            \"serious_events\", \"other_events\") \\\n        .select(\n            \"nct_id\", \n            \"time_frame\", \"frequency_threshold\", \n            col(\"value\")[\"id\"].cast(\"STRING\").alias(\"adverse_event_group_id\"),\n            col(\"value\")[\"description\"].cast(\"STRING\").alias(\"adverse_event_description\"),\n            col(\"value\")[\"deathsNumAtRisk\"].cast(\"NUMERIC\").alias(\"overall_participants_at_risk\"),\n            col(\"value\")[\"seriousNumAffected\"].cast(\"NUMERIC\").alias(\"serious_adverse_events_affected_participants\"),\n            col(\"value\")[\"otherNumAffected\"].cast(\"NUMERIC\").alias(\"other_adverse_events_affected_participants\"),\n            col(\"value\")[\"deathsNumAffected\"].cast(\"NUMERIC\").alias(\"death_affected_participants\"),\n            \"serious_events\", \"other_events\") \n\n    # Flatten serious events with type column    \n    serious_events_df = adverse_events_df.select(\"nct_id\", flatten(\"serious_events\")) \\\n        .select(\n            \"nct_id\",\n            lit(\"serious\").alias(\"adverse_event_type\"),\n            col(\"value\")[\"assessmentType\"].cast(\"STRING\").alias(\"assessment_type\"),\n            col(\"value\")[\"organSystem\"].cast(\"STRING\").alias(\"organ_system\"),\n            col(\"value\")[\"term\"].cast(\"STRING\").alias(\"term\"),\n            col(\"value\")[\"sourceVocabulary\"].cast(\"STRING\").alias(\"source_vocabulary\"),\n            col(\"value\")[\"notes\"].cast(\"STRING\").alias(\"notes\"),\n            col(\"value\")[\"stats\"].alias(\"stats\")\n        ) \\\n        .select(\"nct_id\", \"adverse_event_type\", \"assessment_type\", \"organ_system\", \"term\", \n                \"source_vocabulary\", \"notes\", flatten(\"stats\")\n        ) \\\n        .select(\"nct_id\", \"adverse_event_type\", \"assessment_type\", \"organ_system\", \n                \"term\", \"source_vocabulary\", \"notes\", \n                col(\"value\")[\"groupId\"].cast(\"STRING\").alias(\"adverse_event_group_id\"),\n                col(\"value\")[\"numAffected\"].cast(\"STRING\").alias(\"affected_participants\")\n        ) \\\n\n    # Flatten other events with type column    \n    other_events_df = adverse_events_df.select(\"nct_id\", flatten(\"other_events\")) \\\n        .select(\n            \"nct_id\",\n            lit(\"other\").alias(\"adverse_event_type\"),\n            col(\"value\")[\"assessmentType\"].cast(\"STRING\").alias(\"assessment_type\"),\n            col(\"value\")[\"organSystem\"].cast(\"STRING\").alias(\"organ_system\"),\n            col(\"value\")[\"term\"].cast(\"STRING\").alias(\"term\"),\n            col(\"value\")[\"sourceVocabulary\"].cast(\"STRING\").alias(\"source_vocabulary\"),\n            col(\"value\")[\"notes\"].cast(\"STRING\").alias(\"notes\"),\n            col(\"value\")[\"stats\"].alias(\"stats\")\n        ) \\\n        .select(\"nct_id\", \"adverse_event_type\", \"assessment_type\", \"organ_system\", \"term\", \n                \"source_vocabulary\", \"notes\", flatten(\"stats\")\n        ) \\\n        .select(\"nct_id\", \"adverse_event_type\", \"assessment_type\", \"organ_system\", \n                \"term\", \"source_vocabulary\", \"notes\", \n                col(\"value\")[\"groupId\"].cast(\"STRING\").alias(\"adverse_event_group_id\"),\n                col(\"value\")[\"numAffected\"].cast(\"STRING\").alias(\"affected_participants\")\n        ) \\\n\n    # Union both\n    all_events_df = serious_events_df.union_all(other_events_df)\n\n    # generate sequence id for adverse events\n    window_spec = Window.order_by(\"nct_id\", \"term\")\n    all_events_df = all_events_df.with_column(\"adverse_event_id\", row_number().over(window_spec))   \n\n    # Drop columns in main dataframe\n    adverse_events_df = adverse_events_df.drop(\"serious_events\", \"other_events\")\n\n    # Join dataframes\n    adverse_events_final_df = all_events_df.join(\n        adverse_events_df,\n        on=[\"nct_id\", \"adverse_event_group_id\"],\n        how=\"left\"\n    )\n        \n    # Save as permanent table\n    adverse_events_final_df.write.save_as_table(\"clinical_trials_adverse_events_normalized\", mode=\"overwrite\", table_type=\"\")\n    adverse_events_final_df.show()\n\n    print(\"✅ Adverse events flattened and saved.\")\n",
   "execution_count": null
  },
  {
   "cell_type": "code",
   "id": "e1339179-d263-4a9c-99e6-9d26cb369dd8",
   "metadata": {
    "language": "python",
    "name": "flatten_limitations"
   },
   "outputs": [],
   "source": "def flatten_limitations_caveats(session):\n    df = session.table(\"clinical_trial_results_limitations_caveats_int\")\n\n    limitations_df = df.select(\"nct_id\", flatten(\"limitations_caveats\")) \\\n            .select(\"nct_id\", \n                    col(\"value\")[\"description\"].cast(\"STRING\").alias(\"description\")\n                   ) \n\n    # Save as permanent table\n    limitations_df.write.save_as_table(\"clinical_trials_limitations_normalized\", mode=\"overwrite\", table_type=\"\")\n    limitations_df.show()",
   "execution_count": null
  },
  {
   "cell_type": "code",
   "id": "55d1467d-420c-40e5-92d0-bca71b432517",
   "metadata": {
    "language": "python",
    "name": "flatten_docs"
   },
   "outputs": [],
   "source": "def flatten_documents(session):\n    df = session.table(\"clinical_trial_documentation_int\")\n    url = lit('https://cdn.clinicaltrials.gov/large-docs/60/NCT02953860/')\n\n    documentation_df = df.select(\"nct_id\", flatten(\"clinical_documentation_SAP_ICF_Large_PDFs\")) \\\n            .select(\"nct_id\", \n                    col(\"value\")[\"filename\"].cast(\"STRING\").alias(\"filename\"),              \n                    col(\"value\")[\"size\"].cast(\"NUMERIC\").alias(\"size\"),\n                    col(\"value\")[\"typeAbbrev\"].cast(\"STRING\").alias(\"type_abbreviation\"),\n                    col(\"value\")[\"label\"].cast(\"STRING\").alias(\"label\"),\n                    col(\"value\")[\"date\"].cast(\"DATE\").alias(\"created_date\"),\n                    col(\"value\")[\"uploadDate\"].cast(\"TIMESTAMP\").alias(\"upload_date\")\n                   ) \\\n            .select(\"nct_id\", \"filename\", concat(url, col(\"filename\")).alias(\"url\"), \"size\",\n                   \"type_abbreviation\", \"label\", \"created_date\", \"upload_date\")\n\n    # Save as permanent table\n    documentation_df.write.save_as_table(\"clinical_trials_documents_normalized\", mode=\"overwrite\", table_type=\"\")\n    documentation_df.show()\n\n    print(\"✅ Documents flattened and saved.\")",
   "execution_count": null
  },
  {
   "cell_type": "code",
   "id": "0cb3700d-547b-41d3-a5cf-dc44a545c8eb",
   "metadata": {
    "language": "python",
    "name": "normalize_trials_fxn"
   },
   "outputs": [],
   "source": "def normalize_clinical_trials(session):\n    flatten_clinical_trial_core(session)\n    flatten_locations(session)\n    flatten_clinical_trial_design(session)\n    flatten_design_outcomes(session)\n    flatten_baseline_measures(session)\n    flatten_outcome_measures(session)\n    flatten_adverse_events(session)\n    flatten_limitations_caveats(session)\n    flatten_documents(session)\n\n    print(\"✅ Clinical trials normalized successfully.\")\n\n",
   "execution_count": null
  },
  {
   "cell_type": "code",
   "id": "5b64e007-51b3-420d-9fc7-ffe466a0d0b2",
   "metadata": {
    "language": "python",
    "name": "normalize_trials_fxn_call"
   },
   "outputs": [],
   "source": "normalize_clinical_trials(session)\n",
   "execution_count": null
  }
 ]
}