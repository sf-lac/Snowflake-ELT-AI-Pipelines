{
 "metadata": {
  "kernelspec": {
   "display_name": "Streamlit Notebook",
   "name": "streamlit"
  },
  "lastEditStatus": {
   "notebookId": "s4d373oiumawqotmrftv",
   "authorId": "1855325330717",
   "authorName": "lac",
   "authorEmail": "lac@domain.com",
   "sessionId": "80c31b10-3c6b-4c7b-b09a-634a89501ee9",
   "lastEditTime": 1742531264988
  }
 },
 "nbformat_minor": 5,
 "nbformat": 4,
 "cells": [
  {
   "cell_type": "code",
   "id": "3775908f-ca36-4846-8f38-5adca39217f2",
   "metadata": {
    "language": "python",
    "name": "configure_variables",
    "collapsed": true,
    "codeCollapsed": false
   },
   "source": "import streamlit as st\nfrom snowflake.snowpark.context import get_active_session\nsession = get_active_session()\nrole = session.get_current_role().strip('\"')\ndb = session.get_current_database()\nschema = session.get_current_schema()\nprint(session)\n",
   "execution_count": null,
   "outputs": []
  },
  {
   "cell_type": "code",
   "id": "0ca861c2-708d-4b4f-9881-83e1c42ff28d",
   "metadata": {
    "language": "sql",
    "name": "setup",
    "collapsed": true,
    "codeCollapsed": false
   },
   "outputs": [],
   "source": "USE ROLE {{role}};\nUSE DATABASE {{db}};\nUSE SCHEMA {{schema}};",
   "execution_count": null
  },
  {
   "cell_type": "code",
   "id": "8d50cbf4-0c8d-4950-86cb-114990437ac9",
   "metadata": {
    "language": "sql",
    "name": "create_table_raw",
    "collapsed": true,
    "codeCollapsed": false
   },
   "source": "CREATE OR REPLACE TABLE clinical_trial_raw (\n    study_id STRING, \n    study_data VARIANT\n    );",
   "execution_count": null,
   "outputs": []
  },
  {
   "cell_type": "code",
   "id": "c695373e-ac74-4b62-a1f1-08206cbd5c81",
   "metadata": {
    "language": "sql",
    "name": "create_network_rule",
    "collapsed": true,
    "codeCollapsed": false
   },
   "source": "CREATE OR REPLACE NETWORK RULE CLINICAL_TRIALS_GOV_PUBLIC_DATA_RULE \nMODE = EGRESS \nTYPE = HOST_PORT \nVALUE_LIST = ('clinicaltrials.gov')",
   "execution_count": null,
   "outputs": []
  },
  {
   "cell_type": "code",
   "id": "11165ab4-f8b6-4295-819b-9ccb34569bb8",
   "metadata": {
    "language": "sql",
    "name": "create_external_access_integration",
    "collapsed": true,
    "codeCollapsed": false
   },
   "outputs": [],
   "source": "CREATE OR REPLACE EXTERNAL ACCESS INTEGRATION CLINICAL_TRIALS_GOV_PUBLIC_DATA_INTEGRATION\nALLOWED_NETWORK_RULES = (CLINICAL_TRIALS_GOV_PUBLIC_DATA_RULE)\nENABLED = TRUE;",
   "execution_count": null
  },
  {
   "cell_type": "code",
   "id": "28536900-d3cf-4e2b-a787-ec552552bf3e",
   "metadata": {
    "language": "sql",
    "name": "create_UDF",
    "collapsed": true,
    "codeCollapsed": false
   },
   "outputs": [],
   "source": "CREATE OR REPLACE FUNCTION FETCH_ENDPOINT (URL STRING)\nreturns string\nlanguage python\nruntime_version=3.9\nhandler = 'fetch_data'\nexternal_access_integrations = (CLINICAL_TRIALS_GOV_PUBLIC_DATA_INTEGRATION)\npackages = ('requests')\nas\n$$\nimport requests\nimport _snowflake\nsession = requests.Session()\ndef fetch_data(URL):\n    response = requests.get(URL)\n    return response.json()\n$$;",
   "execution_count": null
  },
  {
   "cell_type": "code",
   "id": "df615cb5-8352-4763-b62a-280324259bf4",
   "metadata": {
    "language": "sql",
    "name": "set_endpoint_url",
    "collapsed": true,
    "codeCollapsed": false
   },
   "outputs": [],
   "source": "SET url  = 'https://clinicaltrials.gov/api/v2/studies/NCT02953860'",
   "execution_count": null
  },
  {
   "cell_type": "code",
   "id": "cc7f96f7-ad9f-41ba-bacd-8140fa6dfba0",
   "metadata": {
    "language": "sql",
    "name": "call_UDT",
    "collapsed": true,
    "codeCollapsed": false
   },
   "outputs": [],
   "source": "SELECT FETCH_ENDPOINT($url);",
   "execution_count": null
  },
  {
   "cell_type": "code",
   "id": "1120582d-7424-4632-9a1b-a70b19035b86",
   "metadata": {
    "language": "sql",
    "name": "load_raw_data",
    "collapsed": true,
    "codeCollapsed": false
   },
   "outputs": [],
   "source": "INSERT INTO clinical_trial_raw \nSELECT split_part($url, '/', -1)::STRING as study_id, \nfetch_endpoint($url)::VARIANT as study_data;\n",
   "execution_count": null
  },
  {
   "cell_type": "code",
   "id": "fbad50ec-ca02-40de-a7aa-62a897e2887f",
   "metadata": {
    "language": "sql",
    "name": "preview_data",
    "collapsed": true,
    "codeCollapsed": false
   },
   "outputs": [],
   "source": "select * from clinical_trial_raw;",
   "execution_count": null
  }
 ]
}