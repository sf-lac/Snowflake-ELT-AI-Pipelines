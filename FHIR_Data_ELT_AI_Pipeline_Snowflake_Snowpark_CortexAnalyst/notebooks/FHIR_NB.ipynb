{
 "metadata": {
  "kernelspec": {
   "display_name": "Streamlit Notebook",
   "name": "streamlit"
  },
  "lastEditStatus": {
   "notebookId": "sn6zsyfq6fne752wgsu5",
   "authorId": "3236285105141",
   "authorName": "lac",
   "authorEmail": "lac@domain.com",
   "sessionId": "8411a8a8-74f1-469f-bd60-0c6833b54a23",
   "lastEditTime": 1750124104776
  }
 },
 "nbformat_minor": 5,
 "nbformat": 4,
 "cells": [
  {
   "cell_type": "markdown",
   "id": "f8f35e52-179c-4d07-af08-47331f267949",
   "metadata": {
    "name": "INTRO",
    "collapsed": false
   },
   "source": "\n   #### Processing Health Level 7 (HL7) Fast Healthcare Interoperability Resources (FHIR) semi-structured JSON Messages with Snowflake Snowpark, Cortex Analyst and Streamlit\n\n   __FHIR__ was created by the standards development organization Health Level 7 (HL7) and was designed to enable health data, including clinical and administrative data, to be quickly and efficiently exchanged. \n\n   __FHIR R4__ is the most recent stable version of the FHIR standard, published in October 2019. It's a normative standard, meaning it's designed for forward compatibility and long-term use. FHIR R4 is widely adopted and powers many FHIR implementations today. \n\n   At the core of HL7 FHIR is a set of modular components called __Resources__. These form the basic data exchange format and model of FHIR. \n   Resources define the component data elements, constraints, and relationships that make up an exchangeable patient record."
  },
  {
   "cell_type": "markdown",
   "id": "daa0db8a-dd00-4257-9742-687f484c3964",
   "metadata": {
    "name": "DATA",
    "collapsed": false
   },
   "source": "Download and unzip __synthea_sample_data_fhir_r4_nov2021.zip__ file from FHIR R4 synthetic data from https://synthetichealth.github.io/synthea-sample-data/ website. The compressed archive contains synthetic HL7 FHIR R4 messages in JSON data files. "
  },
  {
   "cell_type": "markdown",
   "id": "ba32397c-621d-4259-b6c0-ec94a40ecdf0",
   "metadata": {
    "name": "SETUP_CONTEXT",
    "collapsed": false
   },
   "source": "Create the `database` and `schema` used for loading semi-structured data, and `virtual warehouse` as compute resource to load files into Snowflake and perform analytical queries.\n\nIn a separate Snowflake SQL worksheets run the SQL statements in the cell below."
  },
  {
   "cell_type": "code",
   "id": "e1b6c19b-9731-4609-b2a5-4879f6227141",
   "metadata": {
    "language": "sql",
    "name": "SQL_WORSHEET_SETUP"
   },
   "outputs": [],
   "source": "USE ROLE SYSADMIN;\n\nCREATE OR REPLACE DATABASE HL7_FHIR \n    COMMENT = 'HL7 FHIR DATABASE';\n    \nCREATE OR REPLACE SCHEMA HL7_FHIR.HL7_FHIR_R4;\n\nCREATE OR REPLACE WAREHOUSE HL7_FHIR_WH\n    WAREHOUSE_SIZE = 'XSMALL'\n    INITIALLY_SUSPENDED = FALSE\n    AUTO_SUSPEND = 600\n    AUTO_RESUME = TRUE\n    MIN_CLUSTER_COUNT=1\n    MAX_CLUSTER_COUNT=1\n    SCALING_POLICY='STANDARD'\n    COMMENT = '';\n\nCREATE OR REPLACE NOTEBOOK FHIR_NB\n    QUERY_WAREHOUSE=HL7_FHIR_WH\n    MAIN_FILE = 'FHIR_NB.ipynb'\n    WAREHOUSE=HL7_FHIR_WH;",
   "execution_count": null
  },
  {
   "cell_type": "markdown",
   "id": "6039bba6-ad5c-426b-b74a-e46a95e04a8a",
   "metadata": {
    "name": "STAGE_DATA_FILES",
    "collapsed": false
   },
   "source": "Stage and access HL7 FHIR message. \n\n`Stages` are named storage locations in Snowflake used to temporarily load or unload data files before transferring them to Snowflake tables. A Snowflake stage essentially acts as a pointer or reference to a data file or set of data files. It enables Snowflake to access these data files for loading and unloading data without the need to copy or move the files."
  },
  {
   "cell_type": "code",
   "id": "405ebcb9-9bb3-47a8-9386-b0075f37a333",
   "metadata": {
    "language": "sql",
    "name": "CREATE_INTERNAL_STAGE"
   },
   "outputs": [],
   "source": "USE SCHEMA HL7_FHIR.HL7_FHIR_R4;\n\n-- Directory tables store a catalog of staged files in cloud storage.\nCREATE OR REPLACE STAGE HL7_FHIR_STAGE_INTERNAL\n    DIRECTORY = (ENABLE = TRUE)\n    COMMENT = 'Used for staging data';",
   "execution_count": null
  },
  {
   "cell_type": "code",
   "id": "d56a7579-f713-45a6-848e-8c03d629eab7",
   "metadata": {
    "language": "sql",
    "name": "SHOW_STAGES"
   },
   "outputs": [],
   "source": "SHOW STAGES;",
   "execution_count": null
  },
  {
   "cell_type": "code",
   "id": "d587fb40-7bd4-4789-99ad-b165a1494800",
   "metadata": {
    "language": "sql",
    "name": "DESCRIBE_STAGE"
   },
   "outputs": [],
   "source": "-- DESCRIBE STAGE HL7_FHIR_STAGE_INTERNAL;",
   "execution_count": null
  },
  {
   "cell_type": "markdown",
   "id": "6b3cb046-0d63-4a98-bbce-d55c1a7fdb2a",
   "metadata": {
    "name": "STAGE_LOCAL_FILES_SNOWSQL",
    "collapsed": false
   },
   "source": "Stage data files from local file system by executing `PUT` command using `SnowSQL` client.\n\nInvoking snowsql requires the Snowflake account identifier which can be retrieve through SnowSight UI or programatically as below."
  },
  {
   "cell_type": "code",
   "id": "ad4e9e0c-7de9-4749-9032-ce277a64a7dd",
   "metadata": {
    "language": "sql",
    "name": "ACCOUNT_IDENTIFIER"
   },
   "outputs": [],
   "source": "-- SELECT * FROM TABLE(FLATTEN(INPUT => PARSE_JSON(system$allowlist()))) T;\n\nSELECT REPLACE(T.VALUE:host::VARCHAR, '.snowflakecomputing.com') AS ACCOUNT_IDENTIFIER\nFROM TABLE(FLATTEN(INPUT => PARSE_JSON(system$allowlist()))) AS T\nWHERE T.VALUE:type::VARCHAR = 'SNOWFLAKE_DEPLOYMENT_REGIONLESS';\n",
   "execution_count": null
  },
  {
   "cell_type": "markdown",
   "id": "8a90c275-8bdd-4047-ba87-c5fcde2e63f0",
   "metadata": {
    "name": "STAGE_FILES_SNOWSQL",
    "collapsed": false
   },
   "source": "In a terminal window set shell variables for account, username, role, database, schema and warehouse as per setup above, and then invoke snowsql.\n\n`snowsql -a $SNOWSQL_ACCOUNT -u $SNOWSQL_USER -r $SNOWSQL_ROLE -d $SNOWSQL_DATABASE -s $SNOWSQL_SCHEMA -w $SNOWSQL_WAREHOUSE`\n\nEnter user password when prompted then \n\nExecute PUT command to load HL7 FHIR data into stage.\n\n`put file:///fhir/*.json @HL7_FHIR_STAGE_INTERNAL;`\n\n557 Row(s) produced. Time Elapsed: 235.529s\n\nExit SnowSQL when done with CTRL+d;"
  },
  {
   "cell_type": "code",
   "id": "710cc4e5-a4df-4edb-868e-905730bfeac1",
   "metadata": {
    "language": "sql",
    "name": "COUNT_FILES_IN_STAGE"
   },
   "outputs": [],
   "source": "ALTER STAGE HL7_FHIR_STAGE_INTERNAL REFRESH;\n\nSELECT COUNT(*) FROM DIRECTORY(@HL7_FHIR_STAGE_INTERNAL);\n\n",
   "execution_count": null
  },
  {
   "cell_type": "code",
   "id": "1b2662f3-40c3-4771-9ed9-de90efc38020",
   "metadata": {
    "language": "sql",
    "name": "LIST_FILES_IN_STAGE"
   },
   "outputs": [],
   "source": "SELECT * FROM DIRECTORY(@HL7_FHIR_STAGE_INTERNAL) LIMIT 5;\n",
   "execution_count": null
  },
  {
   "cell_type": "markdown",
   "id": "da0e4975-b01d-4581-b80f-4061ad85d2f9",
   "metadata": {
    "name": "LOAD_DATA",
    "collapsed": false
   },
   "source": "Load HL7 FHIR messages into Snowflake tables"
  },
  {
   "cell_type": "code",
   "id": "4444cddf-5047-40bb-a19b-bfc80d1c2ff0",
   "metadata": {
    "language": "sql",
    "name": "CREATE_PATIENT_TABLE"
   },
   "outputs": [],
   "source": "-- Create PATIENT table for HL7 data via JSON\nCREATE TABLE HL7_FHIR.HL7_FHIR_R4.PATIENT\n    (JSON_STRING VARIANT);",
   "execution_count": null
  },
  {
   "cell_type": "markdown",
   "id": "342a3e7a-319d-4c1f-be0e-07f8e96fc2e2",
   "metadata": {
    "name": "VIEW_JSON",
    "collapsed": false
   },
   "source": "Use [JSON Editor Online](https://jsoneditoronline.org/) to view the structure of the HL7 FHIR JSON messages and facilitate creation of appropiate file format. \n\nA Snowflake `file format` is a named database object that encapsulates information about a data file. This information includes the file's type (CSV, JSON, etc.), formatting options, and compression method. Snowflake file formats are used to simplify the process of loading and unloading data from Snowflake tables."
  },
  {
   "cell_type": "code",
   "id": "d9f126dd-ec42-4074-a298-c237ec74c8ed",
   "metadata": {
    "language": "sql",
    "name": "CREATE_FILE_FORMAT_FOR_JSON"
   },
   "outputs": [],
   "source": "CREATE OR REPLACE FILE FORMAT HL7_FHIR.HL7_FHIR_R4.HL7_FHIR_JSON\n    TYPE = 'JSON'\n    COMPRESSION = 'AUTO'\n    ENABLE_OCTAL = FALSE\n    ALLOW_DUPLICATE = FALSE\n    STRIP_OUTER_ARRAY = FALSE\n    STRIP_NULL_VALUES = FALSE\n    IGNORE_UTF8_ERRORS = FALSE;\n",
   "execution_count": null
  },
  {
   "cell_type": "code",
   "id": "b526bee1-b388-495f-ad23-645a97132d8b",
   "metadata": {
    "language": "sql",
    "name": "SHOW_FILE_FORMATS"
   },
   "outputs": [],
   "source": "SHOW FILE FORMATS IN DATABASE HL7_FHIR;",
   "execution_count": null
  },
  {
   "cell_type": "code",
   "id": "77430fda-e544-49f4-9472-63deab6cf073",
   "metadata": {
    "language": "sql",
    "name": "LOAD_DATA_IN_PATIENT_TABLE"
   },
   "outputs": [],
   "source": "COPY INTO HL7_FHIR.HL7_FHIR_R4.PATIENT\nFROM @HL7_FHIR_STAGE_INTERNAL\nFILE_FORMAT = (FORMAT_NAME = 'HL7_FHIR_JSON')\nON_ERROR = 'SKIP_FILE';",
   "execution_count": null
  },
  {
   "cell_type": "code",
   "id": "99b58e1c-6640-4d58-8e3b-3440bff76a58",
   "metadata": {
    "language": "sql",
    "name": "QUERY_PATIENT_TABLE"
   },
   "outputs": [],
   "source": "-- Select raw JSON\nSELECT * FROM HL7_FHIR.HL7_FHIR_R4.PATIENT LIMIT 1;",
   "execution_count": null
  },
  {
   "cell_type": "code",
   "id": "d829cf01-1e00-45a4-a055-1c0aa93daf66",
   "metadata": {
    "language": "python",
    "name": "SNOWPARK_SESSION"
   },
   "outputs": [],
   "source": "from snowflake.snowpark.context import get_active_session\nfrom snowflake.snowpark.functions import col, flatten, round\n\nsession = get_active_session()\n\npatient_df = session.table(\"HL7_FHIR.HL7_FHIR_R4.PATIENT\")",
   "execution_count": null
  },
  {
   "cell_type": "code",
   "id": "7089c664-83ee-4c66-a2da-806a9fcd5a91",
   "metadata": {
    "language": "python",
    "name": "FLATTEN_JSON_EXTRACT_RESOURCES",
    "codeCollapsed": false
   },
   "outputs": [],
   "source": "# Flatten entry array to get resources\n\nresources = patient_df.select(flatten(patient_df.JSON_STRING, path=\"entry\")).alias(\"entry\").select(flatten(col(\"entry\", \"value\"))) \\\n.select(\"SEQ\", \"KEY\", \"VALUE\") \\\n.group_by(\"SEQ\") \\\n.pivot(\"KEY\", ['fullUrl', 'request', 'resource']).agg({'VALUE': \"max\"}).sort(col(\"SEQ\").asc()) \\\n.with_column_renamed(col(\"'fullUrl'\"), \"fullUrl\") \\\n.with_column_renamed(col(\"'request'\"), \"request\") \\\n.with_column_renamed(col(\"'resource'\"), \"resource\")\n\n",
   "execution_count": null
  },
  {
   "cell_type": "code",
   "id": "75b506b7-565a-41a7-8aea-9e36e5a9a3c4",
   "metadata": {
    "language": "python",
    "name": "VIEW_RESOURCES"
   },
   "outputs": [],
   "source": "# resources.columns\nresources.first(10)\n# resources.show(1)\n# resources.limit(1).show()\n",
   "execution_count": null
  },
  {
   "cell_type": "code",
   "id": "1675c8f1-f359-46c1-8cd0-07c9eaf0d50f",
   "metadata": {
    "language": "python",
    "name": "VIEW_RESOURCE_TYPES"
   },
   "outputs": [],
   "source": "resources.select(col('request')['url'].cast('STRING').alias('resource_type')).distinct()",
   "execution_count": null
  },
  {
   "cell_type": "code",
   "id": "35be19bb-0913-4274-a752-34bf6adb75a1",
   "metadata": {
    "language": "python",
    "name": "EXTRACT_PATIENTS"
   },
   "outputs": [],
   "source": "patients = resources.filter(col('request')[\"url\"] == \"Patient\") \\\n.select(col('resource')[\"id\"].cast(\"STRING\").alias('patient_id'), \\\n       col('resource')['identifier'][0]['value'].cast(\"STRING\").alias('medical_record_number'), \\\n       col('resource')['name'][0]['family'].cast(\"STRING\").alias('family_name'), \\\n       col('resource')['name'][0]['given'][0].cast(\"STRING\").alias('given_name'), \\\n       col('resource')['gender'].cast(\"STRING\").alias('gender'), \\\n       col('resource')['extension'][0]['extension'][0]['valueCoding']['display'].cast(\"STRING\").alias('race'), \\\n       col('resource')['birthDate'].cast(\"DATE\").alias('birth_date'),\n       col('resource')['deceasedDateTime'].cast(\"TIMESTAMP\").alias('deceased_datetime'), \\\n       col('resource')['address'][0]['city'].cast(\"STRING\").alias('city'), \\\n       col('resource')['address'][0]['state'].cast(\"STRING\").alias('state'), \\\n       col('resource')['address'][0]['postalCode'].cast(\"STRING\").alias('postal_code'), \\\n       col('resource')['address'][0]['country'].cast(\"STRING\").alias('country')\n       )\n",
   "execution_count": null
  },
  {
   "cell_type": "code",
   "id": "c385e551-2710-4df8-a800-e51833c2631c",
   "metadata": {
    "language": "python",
    "name": "VIEW_PATIENTS_INFO"
   },
   "outputs": [],
   "source": "patients.first(10)\n",
   "execution_count": null
  },
  {
   "cell_type": "code",
   "id": "a058ed7c-3c32-4cd1-ade9-3639676daece",
   "metadata": {
    "language": "python",
    "name": "CHECK_COLUMN_DATATYPES"
   },
   "outputs": [],
   "source": "# Get the schema\nschema = patients.schema\n\n# Print column names and types\nfor field in schema.fields:\n    print(f\"{field.name}: {field.datatype}\")\n",
   "execution_count": null
  },
  {
   "cell_type": "code",
   "id": "c93ed06c-9b88-4ec4-a1c2-e29161e3d59e",
   "metadata": {
    "language": "python",
    "name": "EXTRACT_ENCOUNTERS"
   },
   "outputs": [],
   "source": "encounters = resources.filter(col('request')[\"url\"] == \"Encounter\") \\\n.select(col('resource')[\"id\"].cast(\"STRING\").alias('encounter_id'), \\\n       col('resource')['subject']['reference'].substr(10, 50).alias('patient_id'), \\\n       col('resource')['status'].cast(\"STRING\").alias('encounter_status'), \\\n       col('resource')['class']['code'].cast(\"STRING\").alias('encounter_class_code'), \\\n       col('resource')['period']['start'].cast(\"TIMESTAMP\").alias('encounter_start_datetime'), \\\n       col('resource')['period']['end'].cast(\"TIMESTAMP\").alias('encounter_end_datetime'), \\\n       col('resource')['serviceProvider']['display'].cast(\"STRING\").alias('encounter_service_provider_name'), \\\n       col('resource')['participant'][0]['individual']['display'].cast(\"STRING\").alias('encounter_practitioner')\n       )\n",
   "execution_count": null
  },
  {
   "cell_type": "code",
   "id": "0cba7455-d33b-413a-b175-9b61b62f62ec",
   "metadata": {
    "language": "python",
    "name": "VIEW_ENCOUNTERS"
   },
   "outputs": [],
   "source": "encounters.first(10)",
   "execution_count": null
  },
  {
   "cell_type": "code",
   "id": "5b38e8d5-348a-490b-9236-271e6c0b6fec",
   "metadata": {
    "language": "python",
    "name": "EXTRACT_CLAIMS"
   },
   "outputs": [],
   "source": "claims = resources.filter(col('request')[\"url\"] == \"Claim\") \\\n.select(col('resource')[\"id\"].cast(\"STRING\").alias('claim_id'), \\\n       col('resource')['patient']['reference'].substr(10, 50).alias('patient_id'), \\\n       col('resource')['item'][0]['encounter'][0]['reference'].substring(10, 50).alias('encounter_id'), \\\n       col('resource')['status'].cast(\"STRING\").alias('claim_status'), \\\n       col('resource')['type']['coding'][0]['code'].cast(\"STRING\").alias('claim_type_code'), \\\n       col('resource')['total']['value'].cast(\"DOUBLE\").alias('claim_amount'), \\\n       round(col('resource')['total']['value'], 2).alias('claim_amount_rounded'), \\\n       col('resource')['total']['currency'].cast(\"STRING\").alias('claim_currency'), \\\n       col('resource')['created'].cast(\"TIMESTAMP\").alias('claim_created_datetime'), \\\n       col('resource')['billablePeriod']['start'].cast(\"TIMESTAMP\").alias('claim_start_datetime'), \\\n       col('resource')['billablePeriod']['end'].cast(\"TIMESTAMP\").alias('claim_end_datetime'), \\\n       col('resource')['item'][0]['productOrService']['coding'][0]['code'].cast(\"STRING\").alias('product_service_code'), \\\n       col('resource')['item'][0]['productOrService']['text'].cast(\"STRING\").alias('product_service'), \\\n       col('resource')['insurance'][0]['coverage']['display'].cast(\"STRING\").alias('insurer_name'), \\\n       col('resource')['provider']['display'].cast(\"STRING\").alias('service_provider_name')\n      )",
   "execution_count": null
  },
  {
   "cell_type": "code",
   "id": "c5836cf5-7292-45f7-8d71-3672a1883072",
   "metadata": {
    "language": "python",
    "name": "VIEW_CLAIMS"
   },
   "outputs": [],
   "source": "claims.first(10)",
   "execution_count": null
  },
  {
   "cell_type": "code",
   "id": "3f3a41b6-fbf1-4eed-96c3-b1247f800392",
   "metadata": {
    "language": "python",
    "name": "EXTRACT_CONDITIONS"
   },
   "outputs": [],
   "source": "conditions = resources.filter(col('request')['url'] == \"Condition\") \\\n.select(col('resource')[\"id\"].cast(\"STRING\").alias('condition_id'), \\\n       col('resource')['subject']['reference'].substr(10, 50).alias('patient_id'), \\\n       col('resource')['encounter']['reference'].substr(10, 50).alias('diagnosis_encounter_id'), \\\n       col('resource')['category'][0]['coding'][0]['code'].cast(\"STRING\").alias('category'), \\\n       col('resource')['code']['coding'][0]['code'].cast(\"STRING\").alias('diagnosis_code'), \\\n       col('resource')['code']['text'].cast(\"STRING\").alias('diagnosis'), \\\n       col('resource')['clinicalStatus']['coding'][0]['code'].cast(\"STRING\").alias('clinical_status'), \\\n       col('resource')['verificationStatus']['coding'][0]['code'].cast(\"STRING\").alias('verification_status'), \\\n       col('resource')['recordedDate'].cast(\"TIMESTAMP\").alias('diagnosis_datetime')\n       )",
   "execution_count": null
  },
  {
   "cell_type": "code",
   "id": "d46b941f-3cba-4b34-8a2f-f7b723c81e65",
   "metadata": {
    "language": "python",
    "name": "VIEW_CONDITIONS"
   },
   "outputs": [],
   "source": "conditions.first(10)",
   "execution_count": null
  },
  {
   "cell_type": "code",
   "id": "898c7a5d-acf2-45ca-b1dc-337b51c1027a",
   "metadata": {
    "language": "python",
    "name": "EXTRACT_MEDICATIONS"
   },
   "outputs": [],
   "source": "medications = resources.filter(col('request')['url'] == \"MedicationRequest\") \\\n.select(col('resource')[\"id\"].cast(\"STRING\").alias('medication_id'), \\\n       col('resource')['subject']['reference'].substr(10, 50).alias('patient_id'), \\\n       col('resource')['encounter']['reference'].substr(10, 50).alias('medication_encounter_id'), \\\n       col('resource')['medicationCodeableConcept']['coding'][0]['code'].cast(\"STRING\").alias('medication_code'), \\\n       col('resource')['medicationCodeableConcept']['text'].cast(\"STRING\").alias('medication'), \\\n       col('resource')['intent'].cast(\"STRING\").alias('intent'), \\\n       col('resource')['status'].cast(\"STRING\").alias('medication_status'), \\\n       col('resource')['authoredOn'].cast(\"TIMESTAMP\").alias('medication_request_datetime'), \\\n       col('resource')['requester']['display'].cast(\"STRING\").alias('medication_practitioner')\n       )\n\n",
   "execution_count": null
  },
  {
   "cell_type": "code",
   "id": "973cd3ed-af9c-451b-ae65-739995da5000",
   "metadata": {
    "language": "python",
    "name": "VIEW_MEDICATIONS"
   },
   "outputs": [],
   "source": "medications.first(10)",
   "execution_count": null
  },
  {
   "cell_type": "code",
   "id": "97a33163-94b0-4ab5-bd42-62d7656f2e75",
   "metadata": {
    "language": "python",
    "name": "JOINT_CLAIMS_PATIENTS_MEDICATIONS_DATA"
   },
   "outputs": [],
   "source": "claims_patients_medications_data = claims.join(patients, \"patient_id\", join_type = \"left\") \\\n    .join(encounters, [\"patient_id\", \"encounter_id\"], join_type = \"left\") \\\n    .join(medications, \"patient_id\", join_type= \"left\")\n \nclaims_patients_medications_data.select(\"patient_id\", \"encounter_id\", \"claim_id\", \"medication_id\",\n                                        \"family_name\", \"given_name\",\n                                        \"encounter_start_datetime\", \"encounter_end_datetime\",\n                                        \"claim_amount\", \"claim_amount_rounded\", \"claim_status\", \"claim_type_code\", \"claim_created_datetime\",\n                                        \"product_service_code\", \"product_service\", \n                                        \"service_provider_name\", \"insurer_name\",\n                                        \"intent\", \n                                        \"medication_code\", \"medication\", \n                                        \"medication_request_datetime\", \"medication_status\", \"medication_practitioner\"\n                                       ).first(20)",
   "execution_count": null
  },
  {
   "cell_type": "code",
   "id": "60a700a5-a905-4977-b8f1-7e9f3464f5a9",
   "metadata": {
    "language": "python",
    "name": "JOINT_CLAIMS_PATIENTS_DIAGNOSES_DATA"
   },
   "outputs": [],
   "source": "claims_patients_diagnoses_data = claims.join(patients, \"patient_id\", join_type = \"left\") \\\n    .join(encounters, [\"patient_id\", \"encounter_id\"], join_type = \"left\") \\\n    .join(conditions, \"patient_id\", join_type= \"left\")\n\nclaims_patients_diagnoses_data.select(\"patient_id\", \"encounter_id\", \"claim_id\", \"condition_id\",\n                                      \"family_name\", \"given_name\",\n                                      \"claim_amount\", \"claim_amount_rounded\", \"claim_status\", \"claim_type_code\", \"claim_created_datetime\",\n                                      \"diagnosis_code\", \"diagnosis\", \"diagnosis_datetime\").first(20)\n\n",
   "execution_count": null
  },
  {
   "cell_type": "code",
   "id": "8ffc19dc-c623-4964-8a92-9f46f2800241",
   "metadata": {
    "language": "python",
    "name": "CREATE_HARMONIZED_SCHEMA"
   },
   "outputs": [],
   "source": "result = session.sql(\"create or replace schema HL7_FHIR.HARMONIZED\").collect()\nresult\n",
   "execution_count": null
  },
  {
   "cell_type": "code",
   "id": "1fcff12d-6570-424a-91dc-96e0107d9abf",
   "metadata": {
    "language": "python",
    "name": "SAVE_DATAFRAMES_AS_PERM_TABLES"
   },
   "outputs": [],
   "source": "patients.write.save_as_table(\"HL7_FHIR.HARMONIZED.PATIENTS\", mode=\"overwrite\", table_type=\"\")\nencounters.write.save_as_table(\"HL7_FHIR.HARMONIZED.ENCOUNTERS\", mode=\"overwrite\", table_type=\"\")\nclaims.write.save_as_table(\"HL7_FHIR.HARMONIZED.CLAIMS\", mode=\"overwrite\", table_type=\"\")\nconditions.write.save_as_table(\"HL7_FHIR.HARMONIZED.CONDITIONS\", mode=\"overwrite\", table_type=\"\")\nmedications.write.save_as_table(\"HL7_FHIR.HARMONIZED.MEDICATIONS\", mode=\"overwrite\", table_type=\"\")\n\n\n",
   "execution_count": null
  },
  {
   "cell_type": "code",
   "id": "b8b10638-36f0-48e7-a4f2-9ae36295ca5c",
   "metadata": {
    "language": "python",
    "name": "CHECK_SAVE_TABLE"
   },
   "outputs": [],
   "source": "session.table(\"HL7_FHIR.HARMONIZED.CLAIMS\").show(10)\n",
   "execution_count": null
  },
  {
   "cell_type": "code",
   "id": "fab8bbf3-01d4-469a-b175-d3924bea6fa6",
   "metadata": {
    "language": "sql",
    "name": "CREATE_ANALYTICS_SCHEMA"
   },
   "outputs": [],
   "source": "CREATE OR REPLACE SCHEMA HL7_FHIR.ANALYTICS;",
   "execution_count": null
  },
  {
   "cell_type": "code",
   "id": "ef6a9bae-ca4a-4978-b939-73724aeda988",
   "metadata": {
    "language": "sql",
    "name": "SET_CONTEXT"
   },
   "outputs": [],
   "source": "USE ROLE ACCOUNTADMIN;\nUSE DATABASE HL7_FHIR;\nUSE SCHEMA HARMONIZED;",
   "execution_count": null
  },
  {
   "cell_type": "code",
   "id": "64f50817-18e9-4161-b80d-8a087c9e4ef9",
   "metadata": {
    "language": "sql",
    "name": "CREATE_STAGE_SEMANTIC_MODEL_CORTEX_ANALYST"
   },
   "outputs": [],
   "source": "CREATE OR REPLACE STAGE HL7_FHIR.HARMONIZED.CORTEX_ANALYST_STAGE \n    DIRECTORY = (ENABLE = TRUE);",
   "execution_count": null
  },
  {
   "cell_type": "markdown",
   "id": "04d2953e-1d4c-4aef-b125-5b7538d2c665",
   "metadata": {
    "name": "CREATE_SEMANTIC_MODEL",
    "collapsed": false
   },
   "source": "Construct a __`Semantic Model`__, __`hl7_fhir_r4_semantic_model.yaml`__, that captures relationships between PATIENTS, ENCOUNTERS, CLAIMS, CONDITIONS, MEDICATIONS tables for use by Cortex Analyst.\n\nThe Semantic Model is composed of a number of different fields that help Cortex Analyst understand the specifics of data:\n\n- Logical Tables which are composed of Logical Columns\n- Logical Columns which are one of dimensions, time_dimensions, or measures\n- Relationships that exist between tables to allow for JOINS\n- Verifies queries - a collection of questions and corresponding SQL queries to answer the questions that can help improve accuracy and trustworthiness of results. Used by Cortex Analyst when answering similar types of questions.\n\nGo To AI & ML Studio and choose Cortex Analyst to create and refine the semantic model.\n\nSave the semantic model to CORTEX_ANALYST_STAGE."
  },
  {
   "cell_type": "markdown",
   "id": "de10f975-211e-444b-959a-d300f86fe2e4",
   "metadata": {
    "name": "CORTEX_ANALYST_SEMANTIC_MODEL",
    "collapsed": false
   },
   "source": "Cortex Analyst \n\n- Answer to explain the dataset\n\nThis semantic data model contains healthcare data including patient information, medical encounters, conditions/diagnoses, medications, and insurance claims. It allows analysis of patient demographics, medical histories, diagnoses trends, medication prescriptions, and insurance claim patterns. You can analyze things like claim amounts by provider, common diagnoses by patient demographics, medication prescribing patterns, and encounter volumes over time. The data model connects patients to their medical encounters, conditions, medications and related insurance claims to provide a comprehensive view of healthcare delivery and costs.\n\n- Suggested questions\n\n    - What is the total claim amount for institutional claims in the last month?\n    - How many unique patients have received tramadol hydrochloride 50 MG Oral Tablet medication year to date?\n    - What is the average length of stay (in days) for encounters at HEBREW REHABILITATION CENTER?"
  },
  {
   "cell_type": "markdown",
   "id": "f03a4a68-0c2d-400d-bb52-3f624bcaa7fc",
   "metadata": {
    "name": "CORTEX_ANALYST_STREAMLIT_CHAT_APP",
    "collapsed": false
   },
   "source": "Create __`Streamlit Chat App`__ to call the __`Cortex Analyst REST API`__ with the __`configured semantic model`__. The conversational app allows users to interact with HL7 FHIR data using natural language question-asking.\n\nThe Chat App interface include a description of the semantic data model, onboarded verified questions, and a chat input to process user input prompts by sending POST requests to the specified Cortex Analyst API endpoint, and update conversation history between user and AI analyst.\n\nThe Chat App interface presents the SQL query executed by the assistant along with the results in form of Pandas dataframes and charts.\n\nSemantic Model Description from Cortex Analyst in the chat interface: This semantic data model contains healthcare data including insurance claims, patient encounters, medical conditions, medications, and patient demographics. You can analyze things like claim amounts, diagnoses, medications prescribed, patient visit details, and patient characteristics. For example, you could look at total claim amounts by diagnosis, track patient visits over time, analyze medication prescriptions by provider, or examine patient demographics. The data allows for both financial analysis of healthcare costs as well as clinical analysis of diagnoses, treatment and patient care patterns."
  },
  {
   "cell_type": "markdown",
   "id": "1dc7be6c-e197-4bba-bb29-5c3c2897678a",
   "metadata": {
    "name": "ANALYTICS",
    "collapsed": false
   },
   "source": "💡✨🧠 __Analytics__\n\nAsk questions to analyze healthcare data with Cortex Analyst."
  },
  {
   "cell_type": "markdown",
   "id": "569b5776-ab39-4a0d-9c30-328ce40028c6",
   "metadata": {
    "name": "ANALYTICS_CLINICAL_UTILIZATION_CARE_PATHWAYS",
    "collapsed": false
   },
   "source": "📊 __Clinical Utilization & Care Pathways__\n\nQ1. Which patients have the highest frequency of encounters and associated costs? \n\nQ2. Which patients have unusually high frequency of encounters and medications aimed at detecting overutilization of services? \n\nQ3. Which are the patients with multi-morbidity and polypharmacy risk, that is patients with ≥3 chronic conditions and ≥5 unique medications? Chronic conditions include diabetes, diabetic renal disease, hypertension, coronary heart disease, and stroke.\n\nQ4. Find patients with chronic conditions but low medication adherence \n\nQ5. Which conditions most frequently lead to medication claims? "
  },
  {
   "cell_type": "code",
   "id": "65c75557-7572-4dba-b4e7-59c79fa42270",
   "metadata": {
    "language": "sql",
    "name": "Q1_VERIFIED_QUERY",
    "collapsed": false,
    "codeCollapsed": false
   },
   "outputs": [],
   "source": "-- Which patients have the highest frequency of encounters and associated costs?\n\n/*Name: patients with the highest frequency of encounters and associated costs\nQuestion: Which patients have the highest frequency of encounters and associated costs?\nVerified by: Lavinia Carabet\nVerified at: 2025-06-05 16:57:36\nSQL query:\n\nSELECT p.patient_id, COUNT(DISTINCT e.encounter_id) AS num_encounters, SUM(c.claim_amount) AS total_claim_amount FROM __patients AS p JOIN __encounters AS e ON p.patient_id = e.patient_id JOIN __claims AS c ON e.encounter_id = c.encounter_id GROUP BY p.patient_id ORDER BY num_encounters DESC, total_claim_amount DESC LIMIT 10*/ -- in Streamlit app\n\nSELECT \n    p.patient_id,\n    COUNT(DISTINCT e.encounter_id) AS num_encounters,\n    SUM(c.claim_amount) AS total_claim_amount\nFROM PATIENTS p\nJOIN ENCOUNTERS e ON p.patient_id = e.patient_id\nJOIN CLAIMS c ON e.encounter_id = c.encounter_id\nGROUP BY p.patient_id\nORDER BY num_encounters DESC, total_claim_amount DESC\nLIMIT 10;",
   "execution_count": null
  },
  {
   "cell_type": "code",
   "id": "9f8c62a1-e1c9-4a61-9254-8f59dec9f620",
   "metadata": {
    "language": "sql",
    "name": "Q1_CORTEX_ANALYST"
   },
   "outputs": [],
   "source": "-- Which patients have the highest frequency of encounters and associated costs?\n\nWITH __patients AS (\n  SELECT\n    patient_id\n  FROM hl7_fhir.harmonized.patients\n), __encounters AS (\n  SELECT\n    encounter_id,\n    patient_id\n  FROM hl7_fhir.harmonized.encounters\n), __claims AS (\n  SELECT\n    encounter_id,\n    claim_amount\n  FROM hl7_fhir.harmonized.claims\n)\nSELECT\n  p.patient_id,\n  COUNT(DISTINCT e.encounter_id) AS num_encounters,\n  SUM(c.claim_amount) AS total_claim_amount\nFROM __patients AS p\nJOIN __encounters AS e\n  ON p.patient_id = e.patient_id\nJOIN __claims AS c\n  ON e.encounter_id = c.encounter_id\nGROUP BY\n  p.patient_id\nORDER BY\n  num_encounters DESC,\n  total_claim_amount DESC\nLIMIT 10\n -- Generated by Cortex Analyst\n;",
   "execution_count": null
  },
  {
   "cell_type": "code",
   "id": "61630d9f-2683-41fc-9639-b6666cfda32a",
   "metadata": {
    "language": "sql",
    "name": "Q2"
   },
   "outputs": [],
   "source": "-- detect overutilization: patients with unusually high frequency of encounters and medications\n\nWITH encounter_counts AS (\n    SELECT patient_id, COUNT(DISTINCT encounter_id) AS encounter_count\n    FROM ENCOUNTERS\n    GROUP BY patient_id\n),\nmedication_counts AS (\n    SELECT patient_id, COUNT(DISTINCT medication_id) AS medication_count\n    FROM MEDICATIONS\n    GROUP BY patient_id\n),\nclaim_counts AS (\n    SELECT patient_id, COUNT(DISTINCT claim_id) AS claim_count\n    FROM CLAIMS\n    GROUP BY patient_id\n)\n\nSELECT \n    p.patient_id,\n    p.family_name,\n    p.given_name,\n    p.birth_date,\n    p.deceased_datetime,\n    p.city || ' ' || p.state || ' ' || p.postal_code as address,\n    COALESCE(e.encounter_count, 0) AS encounters,\n    COALESCE(m.medication_count, 0) AS meds,\n    COALESCE(c.claim_count, 0) AS claims\nFROM PATIENTS p\nLEFT JOIN encounter_counts e ON p.patient_id = e.patient_id\nLEFT JOIN medication_counts m ON p.patient_id = m.patient_id\nLEFT JOIN claim_counts c ON p.patient_id = c.patient_id\nWHERE COALESCE(e.encounter_count, 0) > 20\n  AND COALESCE(m.medication_count, 0) > 15\nORDER BY encounters DESC, meds DESC;\n",
   "execution_count": null
  },
  {
   "cell_type": "code",
   "id": "fd9eb969-8e0d-4072-a6e7-b9f46822c623",
   "metadata": {
    "language": "sql",
    "name": "Q2_CORTEX_ANALYST"
   },
   "outputs": [],
   "source": "/*Which patients have unusually high frequency of encounters and medications aimed at detecting overutilization of services?\n\nInterpretation: Identify patients who show potential overutilization of healthcare services by finding those with both high numbers of medical encounters and high numbers of medication prescriptions over the entire available time period. We'll consider this by looking at the total count of encounters and medications per patient, and rank them to identify outliers.*/\n\nWITH __patients AS (\n  SELECT\n    patient_id,\n    family_name,\n    given_name\n  FROM hl7_fhir.harmonized.patients\n), __encounters AS (\n  SELECT\n    encounter_id,\n    patient_id\n  FROM hl7_fhir.harmonized.encounters\n), __medications AS (\n  SELECT\n    medication_id,\n    patient_id\n  FROM hl7_fhir.harmonized.medications\n), patient_encounters AS (\n  SELECT\n    p.patient_id,\n    COUNT(DISTINCT e.encounter_id) AS num_encounters\n  FROM __patients AS p\n  LEFT OUTER JOIN __encounters AS e\n    ON p.patient_id = e.patient_id\n  GROUP BY\n    p.patient_id\n), patient_medications AS (\n  SELECT\n    p.patient_id,\n    COUNT(DISTINCT m.medication_id) AS num_medications\n  FROM __patients AS p\n  LEFT OUTER JOIN __medications AS m\n    ON p.patient_id = m.patient_id\n  GROUP BY\n    p.patient_id\n), utilization_metrics AS (\n  SELECT\n    pe.patient_id,\n    pe.num_encounters,\n    pm.num_medications,\n    PERCENT_RANK() OVER (ORDER BY pe.num_encounters) AS encounter_percentile,\n    PERCENT_RANK() OVER (ORDER BY pm.num_medications) AS medication_percentile\n  FROM patient_encounters AS pe\n  JOIN patient_medications AS pm\n    ON pe.patient_id = pm.patient_id\n)\nSELECT\n  um.patient_id,\n  p.family_name,\n  p.given_name,\n  um.num_encounters,\n  um.num_medications\nFROM utilization_metrics AS um\nLEFT OUTER JOIN __patients AS p\n  ON um.patient_id = p.patient_id\nWHERE\n  um.encounter_percentile >= 0.9 AND um.medication_percentile >= 0.9\nORDER BY\n  um.num_encounters DESC NULLS LAST,\n  um.num_medications DESC NULLS LAST\n -- Generated by Cortex Analyst\n;",
   "execution_count": null
  },
  {
   "cell_type": "code",
   "id": "b9a60a40-b7c0-4f26-8668-209187079b35",
   "metadata": {
    "language": "sql",
    "name": "Q2_CORTEX_ANALYST_ADD_TOTAL_CLAIMS"
   },
   "outputs": [],
   "source": "/*\nWhich patients have unusually high frequency of encounters and medications aimed at detecting overutilization of services? include total number of claims\n\nInterpretation: Find patients who potentially overutilize healthcare services by analyzing their service usage patterns over the entire available time period. Specifically, calculate for each patient: 1) total number of medical encounters, 2) total number of unique medication prescriptions, and 3) total number of claims. Include patient details (ID, gender, city, state) along with these metrics, ordered by total encounters in descending order to identify high utilizers.\n\nPROBLEM: Running time of the query: 2m 26s\n*/\n\nWITH __patients AS (\n  SELECT\n    patient_id,\n    gender,\n    city,\n    state\n  FROM hl7_fhir.harmonized.patients\n), __encounters AS (\n  SELECT\n    encounter_id,\n    patient_id\n  FROM hl7_fhir.harmonized.encounters\n), __medications AS (\n  SELECT\n    medication_id,\n    patient_id\n  FROM hl7_fhir.harmonized.medications\n), __claims AS (\n  SELECT\n    claim_id,\n    patient_id\n  FROM hl7_fhir.harmonized.claims\n), patient_metrics AS (\n  SELECT\n    p.patient_id,\n    COUNT(DISTINCT e.encounter_id) AS num_encounters,\n    COUNT(DISTINCT m.medication_id) AS num_medications,\n    COUNT(DISTINCT c.claim_id) AS num_claims\n  FROM __patients AS p\n  LEFT OUTER JOIN __encounters AS e\n    ON p.patient_id = e.patient_id\n  LEFT OUTER JOIN __medications AS m\n    ON p.patient_id = m.patient_id\n  LEFT OUTER JOIN __claims AS c\n    ON p.patient_id = c.patient_id\n  GROUP BY\n    p.patient_id\n)\nSELECT\n  p.patient_id,\n  p.gender,\n  p.city,\n  p.state,\n  pm.num_encounters,\n  pm.num_medications,\n  pm.num_claims\nFROM __patients AS p\nJOIN patient_metrics AS pm\n  ON p.patient_id = pm.patient_id\nWHERE\n  pm.num_encounters > 0 OR pm.num_medications > 0 OR pm.num_claims > 0\nORDER BY\n  pm.num_encounters DESC NULLS LAST,\n  pm.num_medications DESC NULLS LAST,\n  pm.num_claims DESC NULLS LAST\n -- Generated by Cortex Analyst\n;",
   "execution_count": null
  },
  {
   "cell_type": "markdown",
   "id": "a154f372-aa21-401a-bcf5-17ace4a4044e",
   "metadata": {
    "name": "PROBLEM_PERFORMANCE_Q2_CORTEX_ANALYST",
    "collapsed": false
   },
   "source": "PROBLEM: Running time of the query: 2m 26s\n\nSLOW PERFORMANCE DUE TO:\n\n1. Multiple (three) Large LEFT JOINS in One Pass - This causes a huge intermediate result set, especially when patients have many encounters, medications, and claims — causing explosion in row count due to Cartesian effect in left joins (e.g., 10 encounters × 10 medications × 10 claims = 1,000 rows for one patient).\n\n2. COUNT(DISTINCT ...) Over Duplicated Joins - The join explosion makes COUNT(DISTINCT ...) much more expensive, as Snowflake must deduplicate large intermediate sets.\n\n3. Unnecessary Rejoin - __patients is joined twice: once in patient_metrics, again in the final SELECT. That adds a redundant join."
  },
  {
   "cell_type": "markdown",
   "id": "3184412e-8fdc-426a-9f43-94d59775ebce",
   "metadata": {
    "name": "Q2_CORTEX_FIX_SLOW_PERFORMACE",
    "collapsed": false
   },
   "source": "Rewrite with Pre-Aggregated Metrics Before Joining\n\nSplit the logic into independent per-table aggregations, then join the small aggregated sets:\n\nRunning time: < 1s\n\nWHY > 120X PERFORMANCE GAIN:\n\n1. Each subquery (encounter_counts, etc.) runs independently and efficiently via GROUP BY, producing small result sets (1 row per patient).\n\n2. Final join is on patient_id only, with minimal duplication.\n\n3. COUNT(DISTINCT) is performed before any joins.\n"
  },
  {
   "cell_type": "code",
   "id": "2e4886b9-2082-4799-a1e7-a3b04255945b",
   "metadata": {
    "language": "sql",
    "name": "Q2_CORTEX_ANALYST_FIXED"
   },
   "outputs": [],
   "source": "WITH encounter_counts AS (\n  SELECT patient_id, COUNT(DISTINCT encounter_id) AS num_encounters\n  FROM hl7_fhir.harmonized.encounters\n  GROUP BY patient_id\n),\nmedication_counts AS (\n  SELECT patient_id, COUNT(DISTINCT medication_id) AS num_medications\n  FROM hl7_fhir.harmonized.medications\n  GROUP BY patient_id\n),\nclaim_counts AS (\n  SELECT patient_id, COUNT(DISTINCT claim_id) AS num_claims\n  FROM hl7_fhir.harmonized.claims\n  GROUP BY patient_id\n)\n\nSELECT\n  p.patient_id,\n  p.gender,\n  p.race,\n  p.birth_date,\n  p.deceased_datetime,\n  p.city,\n  p.state,\n  p.postal_code,\n  COALESCE(e.num_encounters, 0) AS num_encounters,\n  COALESCE(m.num_medications, 0) AS num_medications,\n  COALESCE(c.num_claims, 0) AS num_claims\nFROM hl7_fhir.harmonized.patients p\nLEFT JOIN encounter_counts e ON p.patient_id = e.patient_id\nLEFT JOIN medication_counts m ON p.patient_id = m.patient_id\nLEFT JOIN claim_counts c ON p.patient_id = c.patient_id\nWHERE COALESCE(e.num_encounters, 0) > 0\n   OR COALESCE(m.num_medications, 0) > 0\n   OR COALESCE(c.num_claims, 0) > 0\nORDER BY\n  num_encounters DESC NULLS LAST,\n  num_medications DESC NULLS LAST,\n  num_claims DESC NULLS LAST;\n\n",
   "execution_count": null
  },
  {
   "cell_type": "markdown",
   "id": "e484ff7f-5570-4b9d-83c9-efefd13553fa",
   "metadata": {
    "name": "MATERIALIZED_VIEWS",
    "collapsed": false
   },
   "source": "Refactor queries into Snowflake materialized views, giving persistent, pre-aggregated data for fast downstream queries and read-heavy workloads (dashboards, reports). Snowflake keeps the view updated automatically when base tables change (with some latency).\n\nMaterialized views store precomputed results as physical tables, which significantly boosts query performance. By reducing the need for repetitive calculations, materialized views optimize resource usage and improve end-user response times.\n"
  },
  {
   "cell_type": "code",
   "id": "a112928b-e8b3-41fa-b5ce-ce45a6ea57b9",
   "metadata": {
    "language": "sql",
    "name": "Q2_TABLE_SNAPSHOT"
   },
   "outputs": [],
   "source": "CREATE OR REPLACE TABLE HL7_FHIR.ANALYTICS.patient_utilization_of_services_snapshot AS\nWITH encounter_counts AS (\n    SELECT patient_id, COUNT(DISTINCT encounter_id) AS encounter_count\n    FROM ENCOUNTERS\n    GROUP BY patient_id\n),\nmedication_counts AS (\n    SELECT patient_id, COUNT(DISTINCT medication_id) AS medication_count\n    FROM MEDICATIONS\n    GROUP BY patient_id\n),\nclaim_counts AS (\n    SELECT patient_id, COUNT(DISTINCT claim_id) AS claim_count\n    FROM CLAIMS\n    GROUP BY patient_id\n)\n\nSELECT \n    p.patient_id,\n    p.family_name,\n    p.given_name,\n    p.gender,\n    p.race,\n    p.city,\n    p.state,\n    p.postal_code,\n    p.birth_date, \n    DATE(p.deceased_datetime) as deceased_date,\n    COALESCE(e.encounter_count, 0) AS num_encounters,\n    COALESCE(m.medication_count, 0) AS num_medications,\n    COALESCE(c.claim_count, 0) AS num_claims\nFROM PATIENTS p\nLEFT JOIN encounter_counts e ON p.patient_id = e.patient_id\nLEFT JOIN medication_counts m ON p.patient_id = m.patient_id\nLEFT JOIN claim_counts c ON p.patient_id = c.patient_id\nORDER BY num_encounters DESC, num_medications DESC;",
   "execution_count": null
  },
  {
   "cell_type": "code",
   "id": "4ddff5a6-94d5-4ba7-875d-32dfc17c01e1",
   "metadata": {
    "language": "sql",
    "name": "Q2_MATERIALIZED_VIEW"
   },
   "outputs": [],
   "source": "CREATE OR REPLACE MATERIALIZED VIEW HL7_FHIR.ANALYTICS.patient_utilization_of_services_mv AS\nSELECT *\nFROM HL7_FHIR.ANALYTICS.patient_utilization_of_services_snapshot;",
   "execution_count": null
  },
  {
   "cell_type": "markdown",
   "id": "8c9d2fea-8ab0-4d0e-832b-613524bcfefa",
   "metadata": {
    "name": "INDEX_CLUSTERING",
    "collapsed": false
   },
   "source": "Add index clustering to speed up point lookups or filters on num_encounters, num_medications, or num_claims. \n\nThis helps performance at scale and if these columns are queried frequently.\n\n\n"
  },
  {
   "cell_type": "code",
   "id": "ebdd3ac8-df8f-4c15-b7f4-e737c129d275",
   "metadata": {
    "language": "sql",
    "name": "Q2_ADD_INDEX_CLUSTERING"
   },
   "outputs": [],
   "source": "ALTER MATERIALIZED VIEW HL7_FHIR.ANALYTICS.patient_utilization_of_services_mv \nCLUSTER BY (num_encounters, num_medications, num_claims);\n",
   "execution_count": null
  },
  {
   "cell_type": "code",
   "id": "cb796718-dfc8-45c7-b252-fbff595399ff",
   "metadata": {
    "language": "sql",
    "name": "QUERY_Q2_MATERIALIZED_VIEW"
   },
   "outputs": [],
   "source": "-- OVERUTILIZATION OF SERVICES\n\nSELECT * FROM HL7_FHIR.ANALYTICS.patient_utilization_of_services_mv\nWHERE num_encounters > 20 AND num_medications > 15\nORDER BY num_encounters DESC, num_medications DESC;",
   "execution_count": null
  },
  {
   "cell_type": "markdown",
   "id": "d994e016-3cfe-4125-9d0b-58940fbbfcff",
   "metadata": {
    "name": "INDEPENDENT_MATERIALIZED_VIEWS",
    "collapsed": false
   },
   "source": "Using the fixed/optimized Cortex generated Q2 query, create independent materialized views per metric and a final view that joins them for reporting, an approach that provides better performance, lower refresh cost, and maximum reusability.\n\nPerformance & Benefits\n\n- Fast joins - Materialized views already have one row per patient_id             \n- Low refresh cost - Each MV refreshes only when its source table changes         \n- Scalable - Can add more metrics (e.g., lab results, visits) as separate MVs \n- Reusable - Metrics are decoupled — usable in other dashboards/views too         \n\nLimitations\n\nSnowflake restricts materialized views to ensure they can be incrementally and efficiently refreshed, and COUNT(DISTINCT ...) is not incrementally refreshable due to its global deduplication semantics.\n\nReplacement of COUNT(DISTINCT ...) with APPROX_COUNT_DISTINCT(...) allowed in materialized views, gives approximate counts, typically > 99% accurate — often enough for analytics on large datasets where a small margin of error is acceptable.\n\nAlternatives\n\n- Use tables to materialize individual metrics when accuracy matters and materialization is wanted\n- Use regular views (non-materialized) when workload allows slower queries and in design phase"
  },
  {
   "cell_type": "code",
   "id": "0e6e8673-b836-4b11-94bf-79fd1e8eabea",
   "metadata": {
    "language": "sql",
    "name": "PATIENT_ENCOUNTER_COUNTS_MV"
   },
   "outputs": [],
   "source": "CREATE OR REPLACE MATERIALIZED VIEW HL7_FHIR.ANALYTICS.patient_encounter_counts_mv AS\nSELECT\n  patient_id,\n  APPROX_COUNT_DISTINCT(encounter_id) AS num_encounters\nFROM hl7_fhir.harmonized.encounters\nGROUP BY patient_id;\n",
   "execution_count": null
  },
  {
   "cell_type": "code",
   "id": "3039f9a7-333a-4a41-bac7-38731b071626",
   "metadata": {
    "language": "sql",
    "name": "PATIENT_MEDICATION_COUNTS_MV"
   },
   "outputs": [],
   "source": "CREATE OR REPLACE MATERIALIZED VIEW HL7_FHIR.ANALYTICS.patient_medication_counts_mv AS\nSELECT\n  patient_id,\n  APPROX_COUNT_DISTINCT(medication_id) AS num_medications\nFROM hl7_fhir.harmonized.medications\nGROUP BY patient_id;\n",
   "execution_count": null
  },
  {
   "cell_type": "code",
   "id": "8b72f11b-0f4a-4a52-a27b-b0a091d8e3f0",
   "metadata": {
    "language": "sql",
    "name": "PATIENT_CLAIM_ACOUNTS_MV"
   },
   "outputs": [],
   "source": "CREATE OR REPLACE MATERIALIZED VIEW HL7_FHIR.ANALYTICS.patient_claim_counts_mv AS\nSELECT\n  patient_id,\n  APPROX_COUNT_DISTINCT(claim_id) AS num_claims  \nFROM hl7_fhir.harmonized.claims\nGROUP BY patient_id;\n",
   "execution_count": null
  },
  {
   "cell_type": "code",
   "id": "9c960f14-4934-4c29-b695-91b8c54ff9c5",
   "metadata": {
    "language": "sql",
    "name": "PATIENT_UTILIZATION_SERVICES_V"
   },
   "outputs": [],
   "source": "CREATE OR REPLACE VIEW HL7_FHIR.ANALYTICS.patient_utilization_of_services_v AS\nSELECT\n    p.patient_id,\n    p.family_name,\n    p.given_name,\n    p.gender,\n    p.race,\n    p.city,\n    p.postal_code,\n    p.state,\n    p.birth_date, \n    DATE(p.deceased_datetime) as deceased_date,\n    COALESCE(e.num_encounters, 0) AS num_encounters,\n    COALESCE(m.num_medications, 0) AS num_medications,\n    COALESCE(c.num_claims, 0) AS num_claims\nFROM hl7_fhir.harmonized.patients p\nLEFT JOIN HL7_FHIR.ANALYTICS.patient_encounter_counts_mv e\n  ON p.patient_id = e.patient_id\nLEFT JOIN HL7_FHIR.ANALYTICS.patient_medication_counts_mv m\n  ON p.patient_id = m.patient_id\nLEFT JOIN HL7_FHIR.ANALYTICS.patient_claim_counts_mv c\n  ON p.patient_id = c.patient_id\nWHERE COALESCE(e.num_encounters, 0) > 0\n   OR COALESCE(m.num_medications, 0) > 0\n   OR COALESCE(c.num_claims, 0) > 0\nORDER BY\n  num_encounters DESC NULLS LAST,\n  num_medications DESC NULLS LAST,\n  num_claims DESC NULLS LAST;\n",
   "execution_count": null
  },
  {
   "cell_type": "code",
   "id": "15e55b3f-0c9e-4437-9798-012300ad3bd1",
   "metadata": {
    "language": "sql",
    "name": "QUERY_PATIENT_UTILIZATION_SERVICES_VIEW"
   },
   "outputs": [],
   "source": "SELECT * FROM HL7_FHIR.ANALYTICS.patient_utilization_of_services_v\nWHERE num_encounters > 20 AND num_medications > 15\nORDER BY num_encounters DESC, num_medications DESC;\n",
   "execution_count": null
  },
  {
   "cell_type": "code",
   "id": "859c8989-88a2-4238-a1d1-48bd5ee1f755",
   "metadata": {
    "language": "sql",
    "name": "Q3"
   },
   "outputs": [],
   "source": "-- Patients with multi-morbidity and polypharmacy risk: patients with ≥3 chronic conditions and ≥5 unique medications.\n\n-- Common chronic: 'diabetes', 'diabetic renal disease', 'hypertension', 'coronary heart disease', 'stroke'\n\nWITH condition_counts AS (\n    SELECT patient_id, COUNT(DISTINCT diagnosis_code) AS chronic_conditions\n    FROM CONDITIONS\n    WHERE diagnosis_code IN ('44054006', '127013003', '59621000', '53741008', '230690007') -- common chronic\n    GROUP BY patient_id\n),\nmed_counts AS (\n    SELECT patient_id, COUNT(DISTINCT medication_code) AS med_count\n    FROM MEDICATIONS\n    WHERE medication_status = 'active'\n    GROUP BY patient_id\n)\nSELECT \n    p.patient_id,\n    p.family_name,\n    p.given_name,\n    p.city || ' ' || p.state || ' ' || p.postal_code as address,\n    chronic_conditions,\n    med_count\nFROM condition_counts cc\nJOIN med_counts mc ON cc.patient_id = mc.patient_id\nJOIN PATIENTS p ON p.patient_id = cc.patient_id\nWHERE chronic_conditions >= 3 AND med_count >= 5\nORDER BY chronic_conditions DESC, med_count DESC;\n",
   "execution_count": null
  },
  {
   "cell_type": "code",
   "id": "077b1f4a-5d1c-44b8-9e07-70a34bf1b081",
   "metadata": {
    "language": "sql",
    "name": "Q3_CORTEX_ANALYST"
   },
   "outputs": [],
   "source": "/*\nWhich are the patients with multi-morbidity and polypharmacy risk, that is patients with ≥3 chronic conditions and ≥5 unique medications? Chronic conditions include diabetes, diabetic renal disease, hypertension, coronary heart disease, and stroke.\n\nFind patients who have both multi-morbidity (3 or more chronic conditions from the list: diabetes, diabetic renal disease, hypertension, coronary heart disease, and stroke) and polypharmacy risk (5 or more unique medications) over their entire medical history.\n\n- WRONG DIAGNOSIS_CODE FOR HYPERTENSION IN CORTEX ANALYST ANSWER: IS ACTUALLY '59621000' NOT '38341003'\n*/\n\nWITH __patients AS (\n  SELECT\n    patient_id,\n    family_name,\n    given_name\n  FROM hl7_fhir.harmonized.patients\n), __conditions AS (\n  SELECT\n    patient_id,\n    diagnosis_code,\n    verification_status\n  FROM hl7_fhir.harmonized.conditions\n), __medications AS (\n  SELECT\n    patient_id,\n    medication_code,\n    medication_status\n  FROM hl7_fhir.harmonized.medications\n), chronic_conditions AS (\n  SELECT\n    c.patient_id,\n    COUNT(DISTINCT c.diagnosis_code) AS num_conditions\n  FROM __conditions AS c\n  WHERE\n    c.diagnosis_code IN ('44054006', '127013003', '38341003', '53741008', '230690007')\n    AND c.verification_status = 'confirmed'\n  GROUP BY\n    c.patient_id\n  HAVING\n    num_conditions >= 3\n), medication_counts AS (\n  SELECT\n    m.patient_id,\n    COUNT(DISTINCT m.medication_code) AS num_medications\n  FROM __medications AS m\n  WHERE\n    m.medication_status = 'active'\n  GROUP BY\n    m.patient_id\n  HAVING\n    num_medications >= 5\n)\nSELECT\n  p.patient_id,\n  p.family_name,\n  p.given_name,\n  cc.num_conditions,\n  mc.num_medications\nFROM __patients AS p\nJOIN chronic_conditions AS cc\n  ON p.patient_id = cc.patient_id\nJOIN medication_counts AS mc\n  ON p.patient_id = mc.patient_id\nORDER BY\n  cc.num_conditions DESC NULLS LAST,\n  mc.num_medications DESC NULLS LAST\n -- Generated by Cortex Analyst\n;",
   "execution_count": null
  },
  {
   "cell_type": "code",
   "id": "56ec8d3c-8f02-4f1f-bb36-cbb9b128fffd",
   "metadata": {
    "language": "sql",
    "name": "Q3_CORTEX_ANALYST_CORRECTED"
   },
   "outputs": [],
   "source": "WITH __patients AS (\n  SELECT\n    patient_id,\n    family_name,\n    given_name\n  FROM hl7_fhir.harmonized.patients\n), __conditions AS (\n  SELECT\n    patient_id,\n    diagnosis_code,\n    verification_status\n  FROM hl7_fhir.harmonized.conditions\n), __medications AS (\n  SELECT\n    patient_id,\n    medication_code,\n    medication_status\n  FROM hl7_fhir.harmonized.medications\n), chronic_conditions AS (\n  SELECT\n    c.patient_id,\n    COUNT(DISTINCT c.diagnosis_code) AS num_conditions\n  FROM __conditions AS c\n  WHERE\n    c.diagnosis_code IN ('44054006', '127013003', '59621000', '53741008', '230690007')\n    AND c.verification_status = 'confirmed'\n  GROUP BY\n    c.patient_id\n  HAVING\n    num_conditions >= 3\n), medication_counts AS (\n  SELECT\n    m.patient_id,\n    COUNT(DISTINCT m.medication_code) AS num_medications\n  FROM __medications AS m\n  WHERE\n    m.medication_status = 'active'\n  GROUP BY\n    m.patient_id\n  HAVING\n    num_medications >= 5\n)\nSELECT\n  p.patient_id,\n  p.family_name,\n  p.given_name,\n  cc.num_conditions,\n  mc.num_medications\nFROM __patients AS p\nJOIN chronic_conditions AS cc\n  ON p.patient_id = cc.patient_id\nJOIN medication_counts AS mc\n  ON p.patient_id = mc.patient_id\nORDER BY\n  cc.num_conditions DESC NULLS LAST,\n  mc.num_medications DESC NULLS LAST\n -- Generated by Cortex Analyst\n;",
   "execution_count": null
  },
  {
   "cell_type": "code",
   "id": "3d85839a-35bd-490c-bde7-43b4b848e774",
   "metadata": {
    "language": "sql",
    "name": "Q4_TO_ASK"
   },
   "outputs": [],
   "source": "-- Find patients with chronic conditions but low medication adherence\n-- Use a ratio of days covered or gaps in refill history\n\nWITH med_windows AS (\n    SELECT \n        patient_id,        \n        MIN(DATE(medication_request_datetime)) AS first_fill,\n        MAX(DATE(medication_request_datetime)) AS last_fill,\n        COUNT(DISTINCT medication_request_datetime) AS num_fills\n    FROM MEDICATIONS\n    GROUP BY patient_id\n), \nchronic_conditions AS (\n    SELECT patient_id, diagnosis_code\n    FROM CONDITIONS\n    WHERE diagnosis_code IN ('44054006', '59621000') -- diabetes, hypertension\n    GROUP BY patient_id, diagnosis_code\n)\n\nSELECT \n    mw.patient_id,\n    diagnosis_code,\n    DATEDIFF('day', first_fill, last_fill) AS duration_days,\n    FIRST_FILL,\n    LAST_FILL,\n    num_fills,\n    ROUND(num_fills * 30.0 / NULLIF(DATEDIFF('day', first_fill, last_fill), 0), 2) AS adherence_ratio\nFROM med_windows mw\nJOIN chronic_conditions cc ON cc.patient_id = mw.patient_id\nWHERE num_fills > 1\nORDER BY adherence_ratio ASC\nLIMIT 50;\n",
   "execution_count": null
  },
  {
   "cell_type": "code",
   "id": "9397601c-43cf-4518-a2f3-09ab3d2b3fcd",
   "metadata": {
    "language": "sql",
    "name": "Q5_TO_ASK"
   },
   "outputs": [],
   "source": "-- conditions that most frequently lead to medication claims\n\nSELECT \n    c.diagnosis_code,\n    c.diagnosis,\n    COUNT(DISTINCT m.medication_id) AS medication_count\nFROM CONDITIONS c\nJOIN MEDICATIONS m ON c.patient_id = m.patient_id\nGROUP BY c.diagnosis_code, c.diagnosis\nORDER BY medication_count DESC\nLIMIT 40;\n",
   "execution_count": null
  },
  {
   "cell_type": "markdown",
   "id": "a2e958de-88a0-4f97-b63d-7ebe976f5d81",
   "metadata": {
    "name": "ANALYTICS_CLAIMS_FINANCIAL_INSIGHTS",
    "collapsed": false
   },
   "source": "💰 __Claims and Financial Insights__\n\nQ6. How do claim amounts vary by medication prescribed? \n\nQ7. What is the yearly trend of total claim amount per top condition?\n\nQ8. Which conditions are associated with the highest claim amounts?\n\nQ9. What are the most frequently claimed medications by condition type? \n\nQ10. Find cost per condition per patient as an efficiency and burden measure. \n\nQ11. What is the yearly trend of total claim amount per claim type? \n\nQ12. What is the yearly trend of total claim amount per diagnosis per service provider? "
  },
  {
   "cell_type": "code",
   "id": "11b62127-6d46-423f-84f2-4717d2bc6b1e",
   "metadata": {
    "language": "sql",
    "name": "Q6_VERIFIED_QUERY"
   },
   "outputs": [],
   "source": "/*\nName: claim amount variability by medication\nQuestion: How do claim amounts vary by medication prescribed?\nVerified by: Lavinia Carabet\nVerified at: 2025-06-05 17:03:22\nSQL query:\n\nSELECT medication_code, MIN(medication) AS medication, AVG(claim_amount) AS avg_claim, SUM(claim_amount) AS total_claim FROM __medications AS m JOIN __patients AS p ON p.patient_id = m.patient_id JOIN __claims AS c ON c.patient_id = p.patient_id WHERE NOT medication_code IS NULL GROUP BY medication_code ORDER BY total_claim DESC LIMIT 20\n*/\n\nSELECT \n    medication_code,\n    MIN(medication) AS medication,\n    AVG(claim_amount) AS avg_claim,\n    SUM(claim_amount) AS total_claim\nFROM MEDICATIONS m\nJOIN PATIENTS p ON p.patient_id = m.patient_id\nJOIN CLAIMS c ON c.patient_id = p.patient_id\nWHERE medication_code IS NOT NULL\nGROUP BY medication_code\nORDER BY total_claim DESC\nLIMIT 20;",
   "execution_count": null
  },
  {
   "cell_type": "code",
   "id": "ff9d254e-0493-45ab-a630-864c7ac81213",
   "metadata": {
    "language": "sql",
    "name": "Q6_CORTEX_ANALYST"
   },
   "outputs": [],
   "source": "WITH __medications AS (\n  SELECT\n    patient_id,\n    medication_code,\n    medication\n  FROM hl7_fhir.harmonized.medications\n), __patients AS (\n  SELECT\n    patient_id\n  FROM hl7_fhir.harmonized.patients\n), __claims AS (\n  SELECT\n    patient_id,\n    claim_amount\n  FROM hl7_fhir.harmonized.claims\n)\nSELECT\n  medication_code,\n  MIN(medication) AS medication,\n  AVG(claim_amount) AS avg_claim,\n  SUM(claim_amount) AS total_claim\nFROM __medications AS m\nJOIN __patients AS p\n  ON p.patient_id = m.patient_id\nJOIN __claims AS c\n  ON c.patient_id = p.patient_id\nWHERE\n  NOT medication_code IS NULL\nGROUP BY\n  medication_code\nORDER BY\n  total_claim DESC\nLIMIT 20\n -- Generated by Cortex Analyst\n;",
   "execution_count": null
  },
  {
   "cell_type": "code",
   "id": "db4cd69e-ca76-41c4-9d53-e5c746770a52",
   "metadata": {
    "language": "sql",
    "name": "Q7"
   },
   "outputs": [],
   "source": "-- Time-series: Yearly trend of total claim amount per top condition\n\nSELECT \n    DATE_TRUNC('year', DATE(cl.claim_created_datetime)) AS claim_year,\n    c.diagnosis_code,\n    MIN(c.diagnosis) AS diagnosis,\n    SUM(cl.claim_amount) AS total_claims\nFROM CLAIMS cl\nJOIN CONDITIONS c ON cl.patient_id = c.patient_id\nWHERE c.diagnosis_code IN (\n    SELECT diagnosis_code\n    FROM CONDITIONS\n    GROUP BY diagnosis_code\n    ORDER BY COUNT(*) DESC\n    LIMIT 5\n)\nGROUP BY claim_year, c.diagnosis_code\nORDER BY claim_year DESC, total_claims DESC;\n",
   "execution_count": null
  },
  {
   "cell_type": "code",
   "id": "1afffd3a-1e35-44b5-b101-87edeb1c6a34",
   "metadata": {
    "language": "sql",
    "name": "Q7_CORTEX_ANALYST"
   },
   "outputs": [],
   "source": "/*\nWhat is the yearly trend of total claim amount per top condition?\n\nInterpretation: What is the yearly trend of total claim amount for the top 10 conditions (by total claim amount) over the entire available time period? Note: A condition is identified by its diagnosis code.\n*/\n\nWITH __conditions AS (\n  SELECT\n    patient_id,\n    diagnosis_code,\n    diagnosis\n  FROM hl7_fhir.harmonized.conditions\n), __patients AS (\n  SELECT\n    patient_id\n  FROM hl7_fhir.harmonized.patients\n), __claims AS (\n  SELECT\n    patient_id,\n    claim_created_datetime,\n    claim_amount\n  FROM hl7_fhir.harmonized.claims\n), condition_totals AS (\n  SELECT\n    d.diagnosis_code,\n    d.diagnosis,\n    SUM(c.claim_amount) AS total_claims\n  FROM __conditions AS d\n  JOIN __patients AS p\n    ON p.patient_id = d.patient_id\n  JOIN __claims AS c\n    ON c.patient_id = p.patient_id\n  GROUP BY\n    d.diagnosis_code,\n    d.diagnosis\n  ORDER BY\n    total_claims DESC NULLS LAST\n  LIMIT 10\n), yearly_claims AS (\n  SELECT\n    DATE_PART('year', c.claim_created_datetime) AS claim_year,\n    d.diagnosis_code,\n    d.diagnosis,\n    SUM(c.claim_amount) AS yearly_claim_amount\n  FROM __conditions AS d\n  JOIN __patients AS p\n    ON p.patient_id = d.patient_id\n  JOIN __claims AS c\n    ON c.patient_id = p.patient_id\n  WHERE\n    d.diagnosis_code IN (\n      SELECT\n        diagnosis_code\n      FROM condition_totals\n    )\n  GROUP BY\n    claim_year,\n    d.diagnosis_code,\n    d.diagnosis\n)\nSELECT\n  y.claim_year,\n  y.diagnosis_code,\n  y.diagnosis,\n  y.yearly_claim_amount\nFROM yearly_claims AS y\nORDER BY\n  y.claim_year DESC NULLS LAST,\n  y.yearly_claim_amount DESC NULLS LAST\n -- Generated by Cortex Analyst\n;",
   "execution_count": null
  },
  {
   "cell_type": "code",
   "id": "ac506312-2d39-4395-9b2b-a316cff33464",
   "metadata": {
    "language": "sql",
    "name": "Q8"
   },
   "outputs": [],
   "source": "-- conditions associated with the highest claim amounts\n\nSELECT \n    c.diagnosis_code,\n    MIN(c.diagnosis) AS diagnosis,    \n    MIN(c.clinical_status) AS clinical_status,\n    SUM(cl.claim_amount) AS total_claim\nFROM CONDITIONS c\nJOIN PATIENTS p ON p.patient_id = c.patient_id\nJOIN CLAIMS cl ON p.patient_id = cl.patient_id\nGROUP BY c.diagnosis_code\nORDER BY total_claim DESC\nLIMIT 20;\n",
   "execution_count": null
  },
  {
   "cell_type": "code",
   "id": "dce39d0f-3be8-441a-a9fd-a60979a8d1a5",
   "metadata": {
    "language": "sql",
    "name": "Q8_CORTEX_ANALYST"
   },
   "outputs": [],
   "source": "/*\nWhich conditions are associated with the highest claim amounts?\n\nInterpretation: What are the medical conditions that are associated with the highest average and total claim amounts over the entire available time period? This will help identify which conditions typically result in the most expensive claims.\n*/\n\nWITH __conditions AS (\n  SELECT\n    patient_id,\n    diagnosis_code,\n    diagnosis\n  FROM hl7_fhir.harmonized.conditions\n), __patients AS (\n  SELECT\n    patient_id\n  FROM hl7_fhir.harmonized.patients\n), __claims AS (\n  SELECT\n    patient_id,\n    claim_amount\n  FROM hl7_fhir.harmonized.claims\n)\nSELECT\n  c.diagnosis_code,\n  MIN(c.diagnosis) AS condition_name,\n  AVG(cl.claim_amount) AS avg_claim_amount,\n  SUM(cl.claim_amount) AS total_claim_amount\nFROM __conditions AS c\nJOIN __patients AS p\n  ON p.patient_id = c.patient_id\nJOIN __claims AS cl\n  ON cl.patient_id = p.patient_id\nWHERE\n  NOT c.diagnosis_code IS NULL\nGROUP BY\n  c.diagnosis_code\nORDER BY\n  total_claim_amount DESC NULLS LAST\nLIMIT 20\n -- Generated by Cortex Analyst\n;",
   "execution_count": null
  },
  {
   "cell_type": "code",
   "id": "17b01d0b-01a9-4585-a201-3920b056a606",
   "metadata": {
    "language": "sql",
    "name": "Q9"
   },
   "outputs": [],
   "source": "-- most frequently claimed medications by condition type\n\nSELECT \n    c.diagnosis_code,\n    MIN(c.diagnosis) AS diagnosis,\n    m.medication_code,\n    MIN(m.medication) AS medication,\n    COUNT(*) AS claim_count\nFROM CONDITIONS c\nJOIN MEDICATIONS m ON c.patient_id = m.patient_id\nGROUP BY c.diagnosis_code, m.medication_code\nORDER BY claim_count DESC\nLIMIT 20;\n",
   "execution_count": null
  },
  {
   "cell_type": "code",
   "id": "127ed50b-d0a4-40b2-bad1-ab9bb1488390",
   "metadata": {
    "language": "sql",
    "name": "Q9_CORTEX_ANALYST"
   },
   "outputs": [],
   "source": "/*\nWhat are the most frequently claimed medications by condition type?\n\nInterpretation: What are the most common medical conditions and their associated medications based on the number of claims filed? This will show us which medications are most frequently claimed for each type of medical condition.\n*/\n\nWITH __conditions AS (\n  SELECT\n    patient_id,\n    diagnosis_code,\n    diagnosis,\n    verification_status\n  FROM hl7_fhir.harmonized.conditions\n), __patients AS (\n  SELECT\n    patient_id\n  FROM hl7_fhir.harmonized.patients\n), __medications AS (\n  SELECT\n    patient_id,\n    medication_code,\n    medication\n  FROM hl7_fhir.harmonized.medications\n), __claims AS (\n  SELECT\n    claim_id,\n    patient_id\n  FROM hl7_fhir.harmonized.claims\n), condition_meds AS (\n  SELECT\n    c.diagnosis_code,\n    c.diagnosis,\n    m.medication_code,\n    m.medication,\n    COUNT(DISTINCT cl.claim_id) AS claim_count\n  FROM __conditions AS c\n  JOIN __patients AS p\n    ON p.patient_id = c.patient_id\n  JOIN __medications AS m\n    ON m.patient_id = p.patient_id\n  JOIN __claims AS cl\n    ON cl.patient_id = p.patient_id\n  WHERE\n    c.verification_status = 'confirmed'\n    AND NOT c.diagnosis_code IS NULL\n    AND NOT m.medication_code IS NULL\n  GROUP BY\n    c.diagnosis_code,\n    c.diagnosis,\n    m.medication_code,\n    m.medication\n)\nSELECT\n  diagnosis_code,\n  diagnosis,\n  medication_code,\n  medication,\n  claim_count,\n  RANK() OVER (PARTITION BY diagnosis_code ORDER BY claim_count DESC NULLS LAST) AS rank_within_condition\nFROM condition_meds\nORDER BY\n  claim_count DESC NULLS LAST\n -- Generated by Cortex Analyst\n;",
   "execution_count": null
  },
  {
   "cell_type": "code",
   "id": "124fc56d-38ef-42e0-9cf9-1d24d85af2c9",
   "metadata": {
    "language": "sql",
    "name": "Q10"
   },
   "outputs": [],
   "source": "-- cost per condition per patient — efficiency and burden measure\n\nSELECT \n    cl.patient_id,\n    diagnosis_code,\n    MIN(diagnosis) AS diagnosis,\n    SUM(claim_amount) AS total_condition_cost,\n    COUNT(DISTINCT claim_id) AS claims_count,\n    ROUND(SUM(claim_amount) / NULLIF(COUNT(DISTINCT claim_id), 0), 2) AS avg_cost_per_claim\nFROM CONDITIONS c\nJOIN CLAIMS cl ON c.patient_id = cl.patient_id\nGROUP BY cl.patient_id, diagnosis_code\nORDER BY total_condition_cost DESC;\n",
   "execution_count": null
  },
  {
   "cell_type": "code",
   "id": "99a55420-e9df-4441-a9c5-3589be3dd26b",
   "metadata": {
    "language": "sql",
    "name": "Q10_CORTEX_ANALYST"
   },
   "outputs": [],
   "source": "/*\nFind cost per condition per patient as an efficiency and burden measure.\n\nInterpretation: What is the total and average claim amount per medical condition (diagnosis) per patient over the entire available time period? This will help measure both the total financial burden (total claims) and treatment efficiency (average claim) for each patient's medical conditions.\n*/\n\nWITH __patients AS (\n  SELECT\n    patient_id,\n    family_name,\n    given_name\n  FROM hl7_fhir.harmonized.patients\n), __conditions AS (\n  SELECT\n    patient_id,\n    diagnosis_code,\n    diagnosis\n  FROM hl7_fhir.harmonized.conditions\n), __claims AS (\n  SELECT\n    patient_id,\n    claim_amount\n  FROM hl7_fhir.harmonized.claims\n), patient_condition_claims AS (\n  SELECT DISTINCT\n    p.patient_id,\n    p.given_name,\n    p.family_name,\n    c.diagnosis_code,\n    c.diagnosis,\n    cl.claim_amount\n  FROM __patients AS p\n  LEFT OUTER JOIN __conditions AS c\n    ON p.patient_id = c.patient_id\n  LEFT OUTER JOIN __claims AS cl\n    ON p.patient_id = cl.patient_id\n  WHERE\n    NOT c.diagnosis_code IS NULL AND NOT cl.claim_amount IS NULL\n)\nSELECT\n  patient_id,\n  given_name,\n  family_name,\n  diagnosis_code,\n  diagnosis,\n  COUNT(*) AS num_claims,\n  SUM(claim_amount) AS total_claims,\n  AVG(claim_amount) AS avg_claim_amount\nFROM patient_condition_claims\nGROUP BY\n  patient_id,\n  given_name,\n  family_name,\n  diagnosis_code,\n  diagnosis\nORDER BY\n  patient_id,\n  total_claims DESC NULLS LAST\n -- Generated by Cortex Analyst\n;",
   "execution_count": null
  },
  {
   "cell_type": "code",
   "id": "e44898ca-08fc-463e-a412-6b1fb7eea318",
   "metadata": {
    "language": "sql",
    "name": "Q11_CORTEX_ANALYST"
   },
   "outputs": [],
   "source": "/*\nWhat is the yearly trend of total claim amount per claim type?\n\nWhat is the yearly trend of total claim amount per claim type over the entire available time period? Please show the year, claim type, and total claim amount for each year-claim type combination.\n*/\n\nWITH __claims AS (\n  SELECT\n    claim_type_code,\n    claim_created_datetime,\n    claim_amount\n  FROM hl7_fhir.harmonized.claims\n), yearly_claims AS (\n  SELECT\n    DATE_PART('YEAR', c.claim_created_datetime) AS claim_year,\n    c.claim_type_code,\n    SUM(c.claim_amount) AS total_claim_amount\n  FROM __claims AS c\n  GROUP BY\n    DATE_PART('YEAR', c.claim_created_datetime),\n    c.claim_type_code\n)\nSELECT\n  claim_year,\n  claim_type_code,\n  total_claim_amount\nFROM yearly_claims\nORDER BY\n  claim_year DESC NULLS LAST,\n  total_claim_amount DESC NULLS LAST\n -- Generated by Cortex Analyst\n;",
   "execution_count": null
  },
  {
   "cell_type": "code",
   "id": "a40eacfe-dfdc-467c-995e-b506c593009e",
   "metadata": {
    "language": "sql",
    "name": "Q12_cortex_analyst"
   },
   "outputs": [],
   "source": "/*\nWhat is the yearly trend of total claim amount per diagnosis per service provider?\n\nWhat is the yearly trend of total claim amount broken down by both diagnosis code and service provider name, showing the total claim amount for each combination of year, diagnosis code, and service provider over the entire available time period? This will help analyze how claim amounts vary across different diagnoses and providers over time.\n\n*/\n\nWITH __claims AS (\n  SELECT\n    encounter_id,\n    service_provider_name,\n    claim_created_datetime,\n    claim_amount\n  FROM hl7_fhir.harmonized.claims\n), __encounters AS (\n  SELECT\n    encounter_id\n  FROM hl7_fhir.harmonized.encounters\n), __conditions AS (\n  SELECT\n    diagnosis_encounter_id,\n    diagnosis_code\n  FROM hl7_fhir.harmonized.conditions\n), yearly_claims AS (\n  SELECT\n    DATE_PART('YEAR', c.claim_created_datetime) AS claim_year,\n    cond.diagnosis_code,\n    c.service_provider_name,\n    SUM(c.claim_amount) AS total_claim_amount\n  FROM __claims AS c\n  LEFT OUTER JOIN __encounters AS e\n    ON e.encounter_id = c.encounter_id\n  LEFT OUTER JOIN __conditions AS cond\n    ON e.encounter_id = cond.diagnosis_encounter_id\n  WHERE\n    NOT cond.diagnosis_code IS NULL AND NOT c.service_provider_name IS NULL\n  GROUP BY\n    DATE_PART('YEAR', c.claim_created_datetime),\n    cond.diagnosis_code,\n    c.service_provider_name\n)\nSELECT\n  claim_year,\n  diagnosis_code,\n  service_provider_name,\n  total_claim_amount\nFROM yearly_claims\nORDER BY\n  claim_year DESC NULLS LAST,\n  total_claim_amount DESC NULLS LAST\n -- Generated by Cortex Analyst\n;",
   "execution_count": null
  },
  {
   "cell_type": "markdown",
   "id": "60ea84c3-95f4-4d64-881b-d605a33a0de9",
   "metadata": {
    "name": "ANALYTICS_QUALITY_OUTCOMES",
    "collapsed": false
   },
   "source": "📈 __Quality & Outcomes__\n\nQ13. Are patients with chronic conditions (e.g., diabetes) adhering to expected medication patterns? \n\nQ14. What proportion of diagnosed medical conditions have an associated medication prescribed for treatment? "
  },
  {
   "cell_type": "code",
   "id": "a9b80205-27fc-4295-9636-0e1650a726f5",
   "metadata": {
    "language": "sql",
    "name": "Q13_VERIFIED_QUERY"
   },
   "outputs": [],
   "source": "/*\nName: patients with diabetes adhering to expected medication patterns\nQuestion: Are patients with chronic conditions (e.g., diabetes) adhering to expected medication patterns?\nVerified by: Lavinia Carabet\nVerified at: 2025-06-05 17:08:58\nSQL query:\n\nWITH med_patterns AS (SELECT patient_id, COUNT(DISTINCT medication_code) AS num_medications, MIN(medication_request_datetime) AS first_med, MAX(medication_request_datetime) AS last_med, DATEDIFF(YEAR, MIN(medication_request_datetime), MAX(medication_request_datetime)) AS duration_years FROM __medications GROUP BY patient_id), chronic_conditions AS (SELECT patient_id, diagnosis_code, MIN(diagnosis) AS diagnosis FROM __conditions WHERE diagnosis_code = '44054006' GROUP BY patient_id, diagnosis_code) SELECT mp.patient_id, diagnosis_code, diagnosis, num_medications, first_med, last_med, duration_years FROM med_patterns AS mp JOIN chronic_conditions AS cc ON cc.patient_id = mp.patient_id ORDER BY duration_years DESC\n*/\n\nWITH med_patterns AS (\n    SELECT \n        patient_id,\n        COUNT(DISTINCT medication_code) AS num_medications,\n        MIN(medication_request_datetime) AS first_med,\n        MAX(medication_request_datetime) AS last_med,\n        DATEDIFF('year', MIN(medication_request_datetime), MAX(medication_request_datetime)) AS duration_years\n    FROM MEDICATIONS\n    GROUP BY patient_id\n), \nchronic_conditions AS (\n    SELECT \n        patient_id, \n        diagnosis_code,\n        MIN(diagnosis) AS diagnosis\n    FROM CONDITIONS\n    WHERE diagnosis_code = '44054006'  -- diabetes\n    GROUP BY patient_id, diagnosis_code\n)\n\nSELECT \n    mp.patient_id,\n    diagnosis_code,\n    diagnosis,\n    num_medications,\n    first_med,\n    last_med, \n    duration_years\nFROM med_patterns mp\nJOIN chronic_conditions cc ON cc.patient_id = mp.patient_id\nORDER BY duration_years DESC;   ",
   "execution_count": null
  },
  {
   "cell_type": "code",
   "id": "37df48d5-77a1-4daf-8ad3-884735779d03",
   "metadata": {
    "language": "sql",
    "name": "Q13_CORTEX_ANALYST"
   },
   "outputs": [],
   "source": "WITH __medications AS (\n  SELECT\n    patient_id,\n    medication_code,\n    medication_request_datetime\n  FROM hl7_fhir.harmonized.medications\n), __conditions AS (\n  SELECT\n    patient_id,\n    diagnosis_code,\n    diagnosis\n  FROM hl7_fhir.harmonized.conditions\n), med_patterns AS (\n  SELECT\n    patient_id,\n    COUNT(DISTINCT medication_code) AS num_medications,\n    MIN(medication_request_datetime) AS first_med,\n    MAX(medication_request_datetime) AS last_med,\n    DATEDIFF(YEAR, MIN(medication_request_datetime), MAX(medication_request_datetime)) AS duration_years\n  FROM __medications\n  GROUP BY\n    patient_id\n), chronic_conditions AS (\n  SELECT\n    patient_id,\n    diagnosis_code,\n    MIN(diagnosis) AS diagnosis\n  FROM __conditions\n  WHERE\n    diagnosis_code = '44054006' /* diabetes */\n  GROUP BY\n    patient_id,\n    diagnosis_code\n)\nSELECT\n  mp.patient_id,\n  diagnosis_code,\n  diagnosis,\n  num_medications,\n  first_med,\n  last_med,\n  duration_years\nFROM med_patterns AS mp\nJOIN chronic_conditions AS cc\n  ON cc.patient_id = mp.patient_id\nORDER BY\n  duration_years DESC\n -- Generated by Cortex Analyst\n;",
   "execution_count": null
  },
  {
   "cell_type": "code",
   "id": "dacea6f3-d81c-4b60-9320-216346c5c3e4",
   "metadata": {
    "language": "sql",
    "name": "Q14_CORTEX_ANALYST"
   },
   "outputs": [],
   "source": "/*What proportion of diagnosed medical conditions have an associated medication prescribed for treatment? This will be calculated as the ratio of conditions that have a corresponding medication record (matched by patient_id) to the total number of conditions.*/\n\nWITH __conditions AS (\n  SELECT\n    condition_id,\n    patient_id\n  FROM hl7_fhir.harmonized.conditions\n), __medications AS (\n  SELECT\n    medication_id,\n    patient_id\n  FROM hl7_fhir.harmonized.medications\n), condition_med_count AS (\n  SELECT\n    c.condition_id,\n    CASE WHEN NOT m.medication_id IS NULL THEN 1 ELSE 0 END AS has_medication\n  FROM __conditions AS c\n  LEFT OUTER JOIN __medications AS m\n    ON c.patient_id = m.patient_id\n)\nSELECT\n  COUNT(CASE WHEN has_medication = 1 THEN condition_id END) / NULLIF(CAST(COUNT(condition_id) AS FLOAT), 0) AS condition_medication_ratio,\n  COUNT(CASE WHEN has_medication = 1 THEN condition_id END) AS conditions_with_medication,\n  COUNT(condition_id) AS total_conditions\nFROM condition_med_count\n -- Generated by Cortex Analyst\n;\n\n",
   "execution_count": null
  },
  {
   "cell_type": "markdown",
   "id": "0950e25b-9bf5-47d1-9c58-99f1c387ff7d",
   "metadata": {
    "name": "ANALYTICS_PATIENT_JOURNEY_MAPPING",
    "collapsed": false
   },
   "source": "🧩 __Patient Journey Mapping__\n\nQ15. CTE Chain for Full Patient Journey \n\nQ16. Can we track a patient's clinical journey through encounters → diagnoses → treatment → claims? "
  },
  {
   "cell_type": "code",
   "id": "eb51235a-5288-4fba-be0b-2d364c9fb3d1",
   "metadata": {
    "language": "sql",
    "name": "Q15"
   },
   "outputs": [],
   "source": "-- CTE for Full Patient Journey\n\n\nWITH patient_journey AS (\n    SELECT \n        p.patient_id,\n        e.encounter_end_datetime,\n        c.diagnosis_code,\n        m.medication_code,\n        cl.claim_amount,\n        cl.claim_created_datetime\n    FROM PATIENTS p\n    LEFT JOIN ENCOUNTERS e ON p.patient_id = e.patient_id\n    LEFT JOIN CONDITIONS c ON e.encounter_id = c.diagnosis_encounter_id\n    LEFT JOIN MEDICATIONS m ON e.encounter_id = m.medication_encounter_id\n    LEFT JOIN CLAIMS cl ON e.encounter_id = cl.encounter_id\n)\nSELECT \n    patient_id,\n    MIN(encounter_end_datetime) AS first_encounter,\n    MAX(claim_created_datetime) AS last_claim,\n    COUNT(DISTINCT diagnosis_code) AS num_conditions,\n    COUNT(DISTINCT medication_code) AS num_medications,\n    SUM(claim_amount) AS total_claim_amount\nFROM patient_journey\nGROUP BY patient_id\nORDER BY total_claim_amount DESC\nLIMIT 50;\n",
   "execution_count": null
  },
  {
   "cell_type": "code",
   "id": "0d3853db-fed9-4026-922a-5dc28cb20b49",
   "metadata": {
    "language": "sql",
    "name": "Q15_CORTEX_ANALYST"
   },
   "outputs": [],
   "source": "/*\nInterpretation: For each patient, show their first encounter date, last claim date, total number of unique conditions diagnosed, total number of unique medications prescribed, and total claim amount over the entire available time period. Return the top 50 patients by total claim amount.\n*/\n\nWITH __patients AS (\n  SELECT\n    patient_id\n  FROM hl7_fhir.harmonized.patients\n), __encounters AS (\n  SELECT\n    encounter_id,\n    patient_id,\n    encounter_end_datetime\n  FROM hl7_fhir.harmonized.encounters\n), __conditions AS (\n  SELECT\n    diagnosis_encounter_id,\n    diagnosis_code\n  FROM hl7_fhir.harmonized.conditions\n), __medications AS (\n  SELECT\n    medication_encounter_id,\n    medication_code\n  FROM hl7_fhir.harmonized.medications\n), __claims AS (\n  SELECT\n    encounter_id,\n    claim_created_datetime,\n    claim_amount\n  FROM hl7_fhir.harmonized.claims\n), patient_journey AS (\n  SELECT\n    p.patient_id,\n    e.encounter_end_datetime,\n    c.diagnosis_code,\n    m.medication_code,\n    cl.claim_amount,\n    cl.claim_created_datetime\n  FROM __patients AS p\n  LEFT OUTER JOIN __encounters AS e\n    ON p.patient_id = e.patient_id\n  LEFT OUTER JOIN __conditions AS c\n    ON e.encounter_id = c.diagnosis_encounter_id\n  LEFT OUTER JOIN __medications AS m\n    ON e.encounter_id = m.medication_encounter_id\n  LEFT OUTER JOIN __claims AS cl\n    ON e.encounter_id = cl.encounter_id\n)\nSELECT\n  patient_id,\n  MIN(encounter_end_datetime) AS first_encounter,\n  MAX(claim_created_datetime) AS last_claim,\n  COUNT(DISTINCT diagnosis_code) AS num_conditions,\n  COUNT(DISTINCT medication_code) AS num_medications,\n  SUM(claim_amount) AS total_claim_amount\nFROM patient_journey\nGROUP BY\n  patient_id\nORDER BY\n  total_claim_amount DESC NULLS LAST\nLIMIT 50\n -- Generated by Cortex Analyst\n;",
   "execution_count": null
  },
  {
   "cell_type": "code",
   "id": "75ccf9df-8ad9-4689-9124-be0aaff358f6",
   "metadata": {
    "language": "sql",
    "name": "Q16"
   },
   "outputs": [],
   "source": "-- track a patient's clinical journey through encounters → diagnoses → treatment → claims\n\nSELECT DISTINCT\n    p.patient_id,\n    p.family_name,\n    p.given_name,\n    e.encounter_id,\n    e.encounter_end_datetime,\n    c.diagnosis_code,\n    c.diagnosis,\n    m.medication_code,\n    m.medication,\n    cl.claim_id,\n    cl.product_service,\n    cl.claim_created_datetime,\n    cl.claim_amount\nFROM PATIENTS p\nJOIN ENCOUNTERS e ON p.patient_id = e.patient_id\nLEFT JOIN CONDITIONS c ON e.encounter_id = c.diagnosis_encounter_id\nLEFT JOIN MEDICATIONS m ON e.encounter_id = m.medication_encounter_id\nLEFT JOIN CLAIMS cl ON e.encounter_id = cl.encounter_id\nORDER BY p.patient_id, e.encounter_end_datetime DESC;\n",
   "execution_count": null
  },
  {
   "cell_type": "code",
   "id": "fd28fa86-165d-4a11-b609-e24686f08b5a",
   "metadata": {
    "language": "sql",
    "name": "Q16_CORTEX_ANALYST"
   },
   "outputs": [],
   "source": "/*\nTrack a patient's clinical journey through encounters → diagnoses → treatment → claims.\n\nInterpretation: For each patient, show their clinical journey by displaying all their encounters, diagnoses, medications, and claims in chronological order, including the event type (encounter/diagnosis/medication/claim), date, and relevant details (e.g., diagnosis description, medication name, claim amount) over the entire available time period.\n\n*/\n\n\nWITH __patients AS (\n  SELECT\n    patient_id,\n    family_name,\n    given_name\n  FROM hl7_fhir.harmonized.patients\n), __claims AS (\n  SELECT\n    patient_id,\n    encounter_id,\n    product_service,\n    claim_created_datetime,\n    claim_amount\n  FROM hl7_fhir.harmonized.claims\n), all_events AS (\n  SELECT\n    p.patient_id,\n    c.encounter_id,\n    'Claim' AS event_type,\n    c.claim_created_datetime AS event_date,\n    c.product_service AS event_detail,\n    c.claim_amount AS amount\n  FROM __patients AS p\n  LEFT OUTER JOIN __claims AS c\n    ON p.patient_id = c.patient_id\n)\nSELECT\n  ae.patient_id,\n  p.given_name,\n  p.family_name,\n  ae.event_type,\n  ae.event_date,\n  ae.event_detail,\n  ae.amount\nFROM all_events AS ae\nJOIN __patients AS p\n  ON ae.patient_id = p.patient_id\nORDER BY\n  ae.patient_id,\n  ae.event_date DESC NULLS LAST\n -- Generated by Cortex Analyst\n;",
   "execution_count": null
  }
 ]
}