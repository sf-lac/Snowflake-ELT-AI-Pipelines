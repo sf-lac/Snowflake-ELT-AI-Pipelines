{
 "metadata": {
  "kernelspec": {
   "display_name": "Streamlit Notebook",
   "name": "streamlit"
  },
  "lastEditStatus": {
   "notebookId": "e3tzaadrqqd6hfdagmtd",
   "authorId": "5366248918080",
   "authorName": "lac",
   "authorEmail": "lac@domain.com",
   "sessionId": "54b72adf-a0fa-4677-802b-3b25d74c119f",
   "lastEditTime": 1746227159709
  }
 },
 "nbformat_minor": 5,
 "nbformat": 4,
 "cells": [
  {
   "cell_type": "markdown",
   "id": "f8f35e52-179c-4d07-af08-47331f267949",
   "metadata": {
    "name": "INTRO",
    "collapsed": false
   },
   "source": "\n   #### Processing Health Level 7 (HL7) Fast Healthcare Interoperability Resources (FHIR) semi-structured JSON Messages with Snowflake\n\n   __FHIR__ was created by the standards development organization Health Level 7 (HL7) and was designed to enable health data, including clinical and administrative data, to be quickly and efficiently exchanged. \n\n   __FHIR R4__ is the most recent stable version of the FHIR standard, published in October 2019. It's a normative standard, meaning it's designed for forward compatibility and long-term use. FHIR R4 is widely adopted and powers many FHIR implementations today. \n\n   At the core of HL7 FHIR is a set of modular components called __Resources__. These form the basic data exchange format and model of FHIR. \n   Resources define the component data elements, constraints, and relationships that make up an exchangeable patient record."
  },
  {
   "cell_type": "markdown",
   "id": "daa0db8a-dd00-4257-9742-687f484c3964",
   "metadata": {
    "name": "DATA",
    "collapsed": false
   },
   "source": "Download and unzip __synthea_sample_data_fhir_r4_nov2021.zip__ file from FHIR R4 synthetic data from https://synthetichealth.github.io/synthea-sample-data/ website. The compressed archive contains synthetic HL7 FHIR R4 messages in JSON data files. "
  },
  {
   "cell_type": "markdown",
   "id": "ba32397c-621d-4259-b6c0-ec94a40ecdf0",
   "metadata": {
    "name": "SETUP_CONTEXT",
    "collapsed": false
   },
   "source": "Create the `database` and `schema` used for loading semi-structured data, and `virtual warehouse` as compute resource to load files into Snowflake and perform analytical queries.\n\nIn a separate Snowflake SQL worksheets run the SQL statements in the cell below."
  },
  {
   "cell_type": "code",
   "id": "e1b6c19b-9731-4609-b2a5-4879f6227141",
   "metadata": {
    "language": "sql",
    "name": "SQL_WORSHEET_SETUP"
   },
   "outputs": [],
   "source": "USE ROLE SYSADMIN;\n\nCREATE OR REPLACE DATABASE HL7_FHIR \n    COMMENT = 'HL7 FHIR DATABASE';\n    \nCREATE OR REPLACE SCHEMA HL7_FHIR.HL7_FHIR_R4;\n\nCREATE OR REPLACE WAREHOUSE HL7_FHIR_WH\n    WAREHOUSE_SIZE = 'XSMALL'\n    INITIALLY_SUSPENDED = FALSE\n    AUTO_SUSPEND = 600\n    AUTO_RESUME = TRUE\n    MIN_CLUSTER_COUNT=1\n    MAX_CLUSTER_COUNT=1\n    SCALING_POLICY='STANDARD'\n    COMMENT = '';\n\nCREATE OR REPLACE NOTEBOOK FHIR_NB\n    QUERY_WAREHOUSE=HL7_FHIR_WH\n    MAIN_FILE = 'FHIR_NB.ipynb'\n    WAREHOUSE=HL7_FHIR_WH;",
   "execution_count": null
  },
  {
   "cell_type": "markdown",
   "id": "6039bba6-ad5c-426b-b74a-e46a95e04a8a",
   "metadata": {
    "name": "STAGE_DATA_FILES",
    "collapsed": false
   },
   "source": "Stage and access HL7 FHIR message. \n\n`Stages` are named storage locations in Snowflake used to temporarily load or unload data files before transferring them to Snowflake tables. A Snowflake stage essentially acts as a pointer or reference to a data file or set of data files. It enables Snowflake to access these data files for loading and unloading data without the need to copy or move the files."
  },
  {
   "cell_type": "code",
   "id": "405ebcb9-9bb3-47a8-9386-b0075f37a333",
   "metadata": {
    "language": "sql",
    "name": "CREATE_INTERNAL_STAGE"
   },
   "outputs": [],
   "source": "USE SCHEMA HL7_FHIR.HL7_FHIR_R4;\n\n-- Directory tables store a catalog of staged files in cloud storage.\nCREATE OR REPLACE STAGE HL7_FHIR_STAGE_INTERNAL\n    DIRECTORY = (ENABLE = TRUE)\n    COMMENT = 'Used for staging data';",
   "execution_count": null
  },
  {
   "cell_type": "code",
   "id": "d56a7579-f713-45a6-848e-8c03d629eab7",
   "metadata": {
    "language": "sql",
    "name": "SHOW_STAGES"
   },
   "outputs": [],
   "source": "SHOW STAGES;",
   "execution_count": null
  },
  {
   "cell_type": "code",
   "id": "d587fb40-7bd4-4789-99ad-b165a1494800",
   "metadata": {
    "language": "sql",
    "name": "DESCRIBE_STAGE"
   },
   "outputs": [],
   "source": "-- DESCRIBE STAGE HL7_FHIR_STAGE_INTERNAL;",
   "execution_count": null
  },
  {
   "cell_type": "markdown",
   "id": "6b3cb046-0d63-4a98-bbce-d55c1a7fdb2a",
   "metadata": {
    "name": "STAGE_LOCAL_FILES_SNOWSQL",
    "collapsed": false
   },
   "source": "Stage data files from local file system by executing `PUT` command using `SnowSQL` client.\n\nInvoking snowsql requires the Snowflake account identifier which can be retrieve through SnowSight UI or programatically as below."
  },
  {
   "cell_type": "code",
   "id": "ad4e9e0c-7de9-4749-9032-ce277a64a7dd",
   "metadata": {
    "language": "sql",
    "name": "ACCOUNT_IDENTIFIER"
   },
   "outputs": [],
   "source": "-- SELECT * FROM TABLE(FLATTEN(INPUT => PARSE_JSON(system$allowlist()))) T;\n\nSELECT REPLACE(T.VALUE:host::VARCHAR, '.snowflakecomputing.com') AS ACCOUNT_IDENTIFIER\nFROM TABLE(FLATTEN(INPUT => PARSE_JSON(system$allowlist()))) AS T\nWHERE T.VALUE:type::VARCHAR = 'SNOWFLAKE_DEPLOYMENT_REGIONLESS';\n",
   "execution_count": null
  },
  {
   "cell_type": "markdown",
   "id": "8a90c275-8bdd-4047-ba87-c5fcde2e63f0",
   "metadata": {
    "name": "STAGE_FILES_SNOWSQL",
    "collapsed": false
   },
   "source": "In a terminal window set shell variables for account, username, role, database, schema and warehouse as per setup above, and then invoke snowsql.\n\n`snowsql -a $SNOWSQL_ACCOUNT -u $SNOWSQL_USER -r $SNOWSQL_ROLE -d $SNOWSQL_DATABASE -s $SNOWSQL_SCHEMA -w $SNOWSQL_WAREHOUSE`\n\nEnter user password when prompted then \n\nExecute PUT command to load HL7 FHIR data into stage.\n\n`put file:///fhir/*.json @HL7_FHIR_STAGE_INTERNAL;`\n\n557 Row(s) produced. Time Elapsed: 235.529s\n\nExit SnowSQL when done with CTRL+d;"
  },
  {
   "cell_type": "code",
   "id": "710cc4e5-a4df-4edb-868e-905730bfeac1",
   "metadata": {
    "language": "sql",
    "name": "COUNT_FILES_IN_STAGE"
   },
   "outputs": [],
   "source": "ALTER STAGE HL7_FHIR_STAGE_INTERNAL REFRESH;\n\nSELECT COUNT(*) FROM DIRECTORY(@HL7_FHIR_STAGE_INTERNAL);\n\n",
   "execution_count": null
  },
  {
   "cell_type": "code",
   "id": "1b2662f3-40c3-4771-9ed9-de90efc38020",
   "metadata": {
    "language": "sql",
    "name": "LIST_FILES_IN_STAGE"
   },
   "outputs": [],
   "source": "SELECT * FROM DIRECTORY(@HL7_FHIR_STAGE_INTERNAL) LIMIT 5;\n",
   "execution_count": null
  },
  {
   "cell_type": "markdown",
   "id": "da0e4975-b01d-4581-b80f-4061ad85d2f9",
   "metadata": {
    "name": "LOAD_DATA",
    "collapsed": false
   },
   "source": "Load HL7 FHIR messages into Snowflake tables"
  },
  {
   "cell_type": "code",
   "id": "4444cddf-5047-40bb-a19b-bfc80d1c2ff0",
   "metadata": {
    "language": "sql",
    "name": "CREATE_PATIENT_TABLE"
   },
   "outputs": [],
   "source": "-- Create PATIENT table for HL7 data via JSON\nCREATE TABLE HL7_FHIR.HL7_FHIR_R4.PATIENT\n    (JSON_STRING VARIANT);",
   "execution_count": null
  },
  {
   "cell_type": "markdown",
   "id": "342a3e7a-319d-4c1f-be0e-07f8e96fc2e2",
   "metadata": {
    "name": "VIEW_JSON",
    "collapsed": false
   },
   "source": "Use [JSON Editor Online](https://jsoneditoronline.org/) to view the structure of the HL7 FHIR JSON messages and facilitate creation of appropiate file format. \n\nA Snowflake `file format` is a named database object that encapsulates information about a data file. This information includes the file's type (CSV, JSON, etc.), formatting options, and compression method. Snowflake file formats are used to simplify the process of loading and unloading data from Snowflake tables."
  },
  {
   "cell_type": "code",
   "id": "d9f126dd-ec42-4074-a298-c237ec74c8ed",
   "metadata": {
    "language": "sql",
    "name": "CREATE_FILE_FORMAT_FOR_JSON"
   },
   "outputs": [],
   "source": "CREATE OR REPLACE FILE FORMAT HL7_FHIR.HL7_FHIR_R4.HL7_FHIR_JSON\n    TYPE = 'JSON'\n    COMPRESSION = 'AUTO'\n    ENABLE_OCTAL = FALSE\n    ALLOW_DUPLICATE = FALSE\n    STRIP_OUTER_ARRAY = FALSE\n    STRIP_NULL_VALUES = FALSE\n    IGNORE_UTF8_ERRORS = FALSE;\n",
   "execution_count": null
  },
  {
   "cell_type": "code",
   "id": "b526bee1-b388-495f-ad23-645a97132d8b",
   "metadata": {
    "language": "sql",
    "name": "SHOW_FILE_FORMATS"
   },
   "outputs": [],
   "source": "SHOW FILE FORMATS IN DATABASE HL7_FHIR;",
   "execution_count": null
  },
  {
   "cell_type": "code",
   "id": "77430fda-e544-49f4-9472-63deab6cf073",
   "metadata": {
    "language": "sql",
    "name": "LOAD_DATA_IN_PATIENT_TABLE"
   },
   "outputs": [],
   "source": "COPY INTO HL7_FHIR.HL7_FHIR_R4.PATIENT\nFROM @HL7_FHIR_STAGE_INTERNAL\nFILE_FORMAT = (FORMAT_NAME = 'HL7_FHIR_JSON')\nON_ERROR = 'SKIP_FILE';",
   "execution_count": null
  },
  {
   "cell_type": "code",
   "id": "99b58e1c-6640-4d58-8e3b-3440bff76a58",
   "metadata": {
    "language": "sql",
    "name": "QUERY_PATIENT_TABLE"
   },
   "outputs": [],
   "source": "-- Select raw JSON\nSELECT * FROM HL7_FHIR.HL7_FHIR_R4.PATIENT LIMIT 5;",
   "execution_count": null
  },
  {
   "cell_type": "markdown",
   "id": "4449819f-074a-4927-bb6e-98ce258a94e9",
   "metadata": {
    "name": "FLATTEN_JSON_INTRO",
    "collapsed": false
   },
   "source": "Flatten JSON into a structured representation\n\n * `FLATTEN` is a table function that explodes compound values into multiple rows.  \n * It takes a VARIANT, OBJECT, or ARRAY column and produces a lateral view, an inline view that contains correlations to other tables that precede it in the FROM clause.\n * The returned rows consist of a fixed set of columns, that includes the `VALUE` column which contains the value of the element of flattened variant/object/array\n * FLATTEN can be used in a lateral join. When used with the `LATERAL` keyword, the inline view can contain a reference to columns in a table that precedes it in the FROM clause.\n\n * use `MIN` aggregate function to avoid accumulation of columns in GROUP BY clause\n * use `ANY_VALUE` aggregate function to optimize a query that has a GROUP BY clause. ANY_VALUE returns a single non-deterministic value of an expression in a group. It is optimized to return the first value.\n * `TRUNC` function truncates a DATE, TIME, or TIMESTAMP value to the specified precision.\n * `DECODE` function compares the select expression to each search expression in order. As soon as a search expression matches the selection expression, the corresponding result expression is returned.\n"
  },
  {
   "cell_type": "code",
   "id": "e3cf10e8-0271-4e20-b993-cb31c59d0a2b",
   "metadata": {
    "language": "sql",
    "name": "FLATTEN_JSON_1"
   },
   "outputs": [],
   "source": "SELECT VALUE FROM PATIENT, LATERAL FLATTEN(INPUT => JSON_STRING:entry) LIMIT 1;",
   "execution_count": null
  },
  {
   "cell_type": "code",
   "id": "0c845b36-48b8-4c9c-89aa-ad39ae3cd48f",
   "metadata": {
    "language": "sql",
    "name": "FLATTEN_JSON_2"
   },
   "outputs": [],
   "source": "SELECT VALUE:resource as patient_resource FROM PATIENT, LATERAL FLATTEN(INPUT => JSON_STRING:entry)\n    WHERE UPPER(VALUE:resource:resourceType::STRING) = 'PATIENT' AND\n    VALUE:fullUrl = 'urn:uuid:38565670-114d-6c46-50b9-76bbffb16ffb';",
   "execution_count": null
  },
  {
   "cell_type": "code",
   "id": "3a7535b5-3e71-49fd-8d1f-015ddc64b57f",
   "metadata": {
    "language": "sql",
    "name": "FLATTEN_JSON_3"
   },
   "outputs": [],
   "source": "SELECT JSON_STRING:entry[0].fullUrl::string PATIENT_ID,\n MIN(DECODE(IDENTIFIER.VALUE:type.text,'Medical Record Number',IDENTIFIER.VALUE:value::string)) MEDICAL_RECORD_NUMBER,\n UPPER(ANY_VALUE(DECODE(PATIENT_FLAT.VALUE:resource:deceasedDateTime::date,NULL,'Unknown','true'))) PATIENT_DECEASED_IND,\n TRUNC(ANY_VALUE(PATIENT_FLAT.VALUE:resource:birthDate::date),'D') PATIENT_BIRTH_DT,\n UPPER(MIN(DECODE(EXTENSION.VALUE:url,'http://hl7.org/fhir/StructureDefinition/patient-birthPlace',EXTENSION.VALUE:valueAddress:city::string))) PATIENT_BIRTH_CITY\n FROM PATIENT, \n    LATERAL FLATTEN(INPUT => JSON_STRING:entry) PATIENT_FLAT,\n    LATERAL FLATTEN(INPUT => PATIENT_FLAT.VALUE:resource:identifier) IDENTIFIER,\n    LATERAL FLATTEN(INPUT => PATIENT_FLAT.VALUE:resource:extension) EXTENSION\ngroup by patient_id\nLIMIT 1;",
   "execution_count": null
  },
  {
   "cell_type": "code",
   "id": "3812875b-7628-4c6a-93c3-3609a9d3afa0",
   "metadata": {
    "language": "sql",
    "name": "CREATE_PATIENTS_VIEW"
   },
   "outputs": [],
   "source": "CREATE OR REPLACE VIEW HL7_FHIR.HL7_FHIR_R4.PATIENTS_VW AS \n    SELECT\n        JSON_STRING:entry[0].fullUrl::string PATIENT_ID,\n        MIN(DECODE(IDENTIFIER.VALUE:type.text,'Medical Record Number',IDENTIFIER.VALUE:value::string)) PATIENT_MRN,\n        MIN(DECODE(IDENTIFIER.VALUE:type.text,'Social Security Number',IDENTIFIER.VALUE:value::string)) PATIENT_SSN,\n        MIN(DECODE(IDENTIFIER.VALUE:type.text,'Driver\\'s License',IDENTIFIER.VALUE:value::string)) PATIENT_DRIVERS_LICENSE_NUM,\n        MIN(DECODE(IDENTIFIER.VALUE:type.text,'Passport Number',IDENTIFIER.VALUE:value::string)) PATIENT_PASSPORT_NUM,\n        UPPER(ANY_VALUE(UPPER(PATIENT_FLAT.VALUE:resource:name[0].family::string))) PATIENT_LAST_NM,\n        UPPER(ANY_VALUE(UPPER(PATIENT_FLAT.VALUE:resource:name[0].given[0]::string))) PATIENT_FIRST_NM,\n        UPPER(ANY_VALUE(UPPER(PATIENT_FLAT.VALUE:resource:name[0].prefix[0]::string))) PATIENT_NM_PREFIX,\n        ANY_VALUE(UPPER(PATIENT_FLAT.VALUE:resource:gender::string)) PATIENT_SEX,\n        UPPER(DECODE(MIN(DECODE(EXTENSION.VALUE:url,'http://hl7.org/fhir/us/core/StructureDefinition/us-core-birthsex',EXTENSION.VALUE:valueCode::string)),'M','Male',\n        'F','Female',\n        'Unknown')) PATIENT_BIRTH_SEX,\n        UPPER(MIN(DECODE(EXTENSION.VALUE:url,'http://hl7.org/fhir/us/core/StructureDefinition/us-core-race',EXTENSION.VALUE:extension[0]:valueCoding.display::string))) PATIENT_CORE_RACE,\n        UPPER(MIN(DECODE(EXTENSION.VALUE:url,'http://hl7.org/fhir/us/core/StructureDefinition/us-core-ethnicity',EXTENSION.VALUE:extension[0]:valueCoding.display::string))) PATIENT_CORE_ETHNICITY,\n        UPPER(DECODE(ANY_VALUE(PATIENT_FLAT.VALUE:resource:maritalStatus.text::string),'M','Married',\n        'S','Single',\n        ANY_VALUE(PATIENT_FLAT.VALUE:resource:maritalStatus.text::string))) PATIENT_MARITAL_STATUS,\n        TRUNC(ANY_VALUE(PATIENT_FLAT.VALUE:resource:birthDate::date),'D') PATIENT_BIRTH_DT,\n        UPPER(COALESCE(ANY_VALUE(PATIENT_FLAT.VALUE:resource:multipleBirthBoolean::string),'Unknown')) PATIENT_MULTIPLE_BIRTH_IND,\n        UPPER(MIN(DECODE(EXTENSION.VALUE:url,'http://hl7.org/fhir/StructureDefinition/patient-birthPlace',EXTENSION.VALUE:valueAddress:city::string))) PATIENT_BIRTH_CITY,\n        UPPER(MIN(DECODE(EXTENSION.VALUE:url,'http://hl7.org/fhir/StructureDefinition/patient-birthPlace',EXTENSION.VALUE:valueAddress:country::string))) PATIENT_BIRTH_COUNTRY,\n        UPPER(MIN(DECODE(EXTENSION.VALUE:url,'http://hl7.org/fhir/StructureDefinition/patient-birthPlace',EXTENSION.VALUE:valueAddress:state::string))) PATIENT_BIRTH_STATE,\n        TRUNC(ANY_VALUE(PATIENT_FLAT.VALUE:resource:deceasedDateTime::date),'D') PATIENT_DEATH_DT,\n        UPPER(ANY_VALUE(DECODE(PATIENT_FLAT.VALUE:resource:deceasedDateTime::date,NULL,'Unknown','true'))) PATIENT_DECEASED_IND,\n        UPPER(MIN(DECODE(EXTENSION.VALUE:url,'http://hl7.org/fhir/StructureDefinition/patient-mothersMaidenName',EXTENSION.VALUE:valueString::string))) PATIENT_MOTHERS_MAIDEN_NAME,\n        UPPER(ANY_VALUE(ADDRESS.VALUE:line[0]::string)) PATIENT_ADDR_LINE1,\n        UPPER(ANY_VALUE(ADDRESS.VALUE:line[1]::string)) PATIENT_ADDR_LINE2,\n        UPPER(ANY_VALUE(ADDRESS.VALUE:line[2]::string)) PATIENT_ADDR_LINE3,\n        UPPER(ANY_VALUE(ADDRESS.VALUE:city::string)) PATIENT_CITY,\n        UPPER(ANY_VALUE(ADDRESS.VALUE:state::string)) PATIENT_STATE,\n        UPPER(ANY_VALUE(ADDRESS.VALUE:country::string)) PATIENT_COUNTRY,\n        ANY_VALUE(ADDRESS.VALUE:postalCode::string) PATIENT_POSTAL_CD,                           ANY_VALUE(COALESCE(DECODE(ADDRESS.VALUE:extension[0]:extension[0].url::string,'latitude',ADDRESS.VALUE:extension[0]:extension[0].valueDecimal::float),DECODE(ADDRESS.VALUE:extension[0]:extension[1].url::string,'latitude',ADDRESS.VALUE:extension[0]:extension[1].valueDecimal::float))) PATIENT_LATITUDE,        ANY_VALUE(COALESCE(DECODE(ADDRESS.VALUE:extension[0]:extension[0].url::string,'longitude',ADDRESS.VALUE:extension[0]:extension[0].valueDecimal::float),DECODE(ADDRESS.VALUE:extension[0]:extension[1].url::string,'longitude',ADDRESS.VALUE:extension[0]:extension[1].valueDecimal::float))) PATIENT_LONGITUDE,\n        MIN(DECODE(EXTENSION.VALUE:url,'http://synthetichealth.github.io/synthea/disability-adjusted-life-years',EXTENSION.VALUE:valueDecimal::string)) PATIENT_DISABILITY_ADJUSTED_LIFE_YEARS,\n        MIN(DECODE(EXTENSION.VALUE:url,'http://synthetichealth.github.io/synthea/quality-adjusted-life-years',EXTENSION.VALUE:valueDecimal::string)) PATIENT_QUALITY_ADJUSTED_LIFE_YEARS,\n        1 PATIENT_CNT\n    FROM HL7_FHIR.HL7_FHIR_R4.PATIENT,\n        LATERAL FLATTEN(INPUT => JSON_STRING:entry) PATIENT_FLAT,\n        LATERAL FLATTEN(INPUT => PATIENT_FLAT.VALUE:resource:identifier) IDENTIFIER,\n        LATERAL FLATTEN(INPUT => PATIENT_FLAT.VALUE:resource:extension) EXTENSION,\n        LATERAL FLATTEN(INPUT => PATIENT_FLAT.VALUE:resource:address) ADDRESS\n    WHERE UPPER(PATIENT_FLAT.VALUE:resource:resourceType::STRING) = 'PATIENT'\n    GROUP BY PATIENT_ID;",
   "execution_count": null
  },
  {
   "cell_type": "code",
   "id": "01516648-3eef-407e-bae9-8ad1282636cc",
   "metadata": {
    "language": "sql",
    "name": "QUERY_PATIENTS_VIEW"
   },
   "outputs": [],
   "source": "-- query the flatten views to look at HL7 FHIR JSON data in tabular format        \nSELECT * FROM HL7_FHIR.HL7_FHIR_R4.PATIENTS_VW LIMIT 5;\n",
   "execution_count": null
  },
  {
   "cell_type": "code",
   "id": "7eabeba4-16fc-43bb-844b-ccb84882d7ab",
   "metadata": {
    "language": "sql",
    "name": "CREATE_CONDITIONS_VIEW"
   },
   "outputs": [],
   "source": " CREATE OR REPLACE VIEW HL7_FHIR.HL7_FHIR_R4.CONDITIONS_VW AS\n    SELECT\n        CONDITION_FLAT.value:fullUrl::string condition_id,\n        JSON_STRING:entry[0].fullUrl::string PATIENT_ID,\n        CODING.VALUE:code::string CONDITION_CD,\n        UPPER(CODING.VALUE:display::string) CONDITION_DESC,\n        UPPER(CONDITION_FLAT.VALUE:resource.code.text::string) CONDITION_TXT,\n        CONDITION_FLAT.VALUE:resource.assertedDate::date ASSERTED_DTTM,\n        CONDITION_FLAT.VALUE:resource.onsetDateTime::date ONSET_DTTM,\n        CONDITION_FLAT.VALUE:resource.abatementDateTime::date ABATEMENT_DTTM,\n        UPPER(CONDITION_FLAT.VALUE:resource.verificationStatus::string) VERIFICATION_STATUS,\n        UPPER(CONDITION_FLAT.VALUE:resource.clinicalStatus::string) CLINICAL_STATUS,\n        1 CONDITION_CNT\n    FROM HL7_FHIR.HL7_FHIR_R4.PATIENT, \n         LATERAL FLATTEN(INPUT => JSON_STRING:entry) CONDITION_FLAT,\n         LATERAL FLATTEN(INPUT => CONDITION_FLAT.VALUE:resource.code.coding) CODING\n    WHERE UPPER(CONDITION_FLAT.VALUE:request.url::string) = 'CONDITION';",
   "execution_count": null
  },
  {
   "cell_type": "code",
   "id": "5dff2348-6020-4ef5-bef5-789cf307cb5b",
   "metadata": {
    "language": "sql",
    "name": "QUERY_CONDITIONS_PER_PATIENT"
   },
   "outputs": [],
   "source": "SELECT * FROM HL7_FHIR.HL7_FHIR_R4.CONDITIONS_VW WHERE PATIENT_ID = 'urn:uuid:76b289fd-e825-734c-8446-316f59643593';",
   "execution_count": null
  },
  {
   "cell_type": "code",
   "id": "f941fa2e-d05e-4eb6-9fee-abddcedc00dd",
   "metadata": {
    "language": "sql",
    "name": "QUERY_CANCER_CONDITION"
   },
   "outputs": [],
   "source": "SELECT * FROM HL7_FHIR.HL7_FHIR_R4.CONDITIONS_VW WHERE CONTAINS(CONDITION_DESC, 'CANCER');",
   "execution_count": null
  },
  {
   "cell_type": "markdown",
   "id": "df9b8593-26a9-4c81-9227-6d1ffe157b7f",
   "metadata": {
    "name": "MASKING_POLICIES_INTRO",
    "collapsed": false
   },
   "source": "`Masking Policies` to protect Confidential Data by leveraging Dynamic Data Masking\n\n`Dynamic Data Masking` is a Column-level Security feature that uses masking policies to selectively mask plain-text data in table and view columns at query time.\n\nDepending on the `masking policy conditions`, the `SQL execution context`, and `role hierarchy`, Snowflake query operators may see the plain-text value, a partially masked value, or a fully masked value.\n\nLeverage `Dynamic Data Masking` to `protect PII or HIPPA data` by `selecting different functional roles`.\n\n`HIPAA` (Health Insurance Portability and Accountability Act) focuses on protecting Protected Health Information (PHI), while `PII` (Personally Identifiable Information) is a broader concept encompassing any data that can identify an individual, not just health-related data."
  },
  {
   "cell_type": "code",
   "id": "f8cc2175-40ea-4ea8-9edc-7bc63be3c69d",
   "metadata": {
    "language": "sql",
    "name": "CREATE_PII_MASKING_POLICY_CHAR"
   },
   "outputs": [],
   "source": "CREATE OR REPLACE MASKING POLICY SIMPLE_MASK_PII_CHAR AS\n    (VAL CHAR) RETURNS CHAR ->\n    CASE\n        WHEN CURRENT_ROLE() IN ('SYSADMIN') THEN VAL\n            ELSE '***PII MASKED***'\n        END;",
   "execution_count": null
  },
  {
   "cell_type": "code",
   "id": "d52c83cb-c630-48c1-b4eb-5cb71ad46519",
   "metadata": {
    "language": "sql",
    "name": "CREATE_PII_MASKING_POLICY_DATE"
   },
   "outputs": [],
   "source": "CREATE OR REPLACE MASKING POLICY SIMPLE_MASK_PII_DATE AS\n    (VAL DATE) RETURNS DATE ->\n    CASE\n        WHEN CURRENT_ROLE() IN ('SYSADMIN') THEN VAL\n            ELSE NULL\n        END;",
   "execution_count": null
  },
  {
   "cell_type": "code",
   "id": "bfda7bfe-79ec-467e-ab6b-4c7ef0c671bf",
   "metadata": {
    "language": "sql",
    "name": "CREATE_HIPAA_MASKING_POLICY"
   },
   "outputs": [],
   "source": "CREATE OR REPLACE MASKING POLICY SIMPLE_MASK_HIPAA_CHAR AS\n    (VAL CHAR) RETURNS CHAR ->\n    CASE\n        WHEN CURRENT_ROLE() IN ('SYSADMIN') THEN VAL\n            ELSE '***HIPPA***'\n        END;",
   "execution_count": null
  },
  {
   "cell_type": "code",
   "id": "20691af4-ca1a-48e8-bd2b-78901ff89ad4",
   "metadata": {
    "language": "sql",
    "name": "APPLY_MASKING_POLICIES"
   },
   "outputs": [],
   "source": "-- Apply masking policies to specific columns in the views\nALTER VIEW PATIENTS_VW MODIFY COLUMN PATIENT_SSN SET MASKING POLICY SIMPLE_MASK_PII_CHAR;\nALTER VIEW PATIENTS_VW MODIFY COLUMN PATIENT_DRIVERS_LICENSE_NUM SET MASKING POLICY SIMPLE_MASK_PII_CHAR;\nALTER VIEW PATIENTS_VW MODIFY COLUMN PATIENT_PASSPORT_NUM SET MASKING POLICY SIMPLE_MASK_PII_CHAR;\nALTER VIEW PATIENTS_VW MODIFY COLUMN PATIENT_BIRTH_DT SET MASKING POLICY SIMPLE_MASK_PII_DATE;\n\n\nALTER VIEW PATIENTS_VW MODIFY COLUMN PATIENT_FIRST_NM SET MASKING POLICY SIMPLE_MASK_HIPAA_CHAR;\nALTER VIEW PATIENTS_VW MODIFY COLUMN PATIENT_LAST_NM SET MASKING POLICY SIMPLE_MASK_HIPAA_CHAR;\nALTER VIEW PATIENTS_VW MODIFY COLUMN PATIENT_MOTHERS_MAIDEN_NAME SET MASKING POLICY SIMPLE_MASK_HIPAA_CHAR;\nALTER VIEW PATIENTS_VW MODIFY COLUMN PATIENT_BIRTH_SEX SET MASKING POLICY SIMPLE_MASK_HIPAA_CHAR;\nALTER VIEW PATIENTS_VW MODIFY COLUMN PATIENT_BIRTH_CITY SET MASKING POLICY SIMPLE_MASK_HIPAA_CHAR;",
   "execution_count": null
  },
  {
   "cell_type": "code",
   "id": "51defa92-ba65-4e6c-9951-2f328b55528a",
   "metadata": {
    "language": "sql",
    "name": "VERIFY_MASKING_SYSADMIN"
   },
   "outputs": [],
   "source": "--Verify masking policy using SYSADMIN - can see unrestricted data\nUSE ROLE SYSADMIN;\n\nSELECT PATIENT_ID, PATIENT_MRN, PATIENT_SSN, PATIENT_DRIVERS_LICENSE_NUM, PATIENT_PASSPORT_NUM, PATIENT_BIRTH_DT, \nPATIENT_BIRTH_SEX, PATIENT_BIRTH_CITY, PATIENT_FIRST_NM, PATIENT_LAST_NM, PATIENT_MOTHERS_MAIDEN_NAME \nFROM HL7_FHIR.HL7_FHIR_R4.PATIENTS_VW\nLIMIT 10;",
   "execution_count": null
  },
  {
   "cell_type": "code",
   "id": "2b0cf355-0b5f-4335-81dd-d4dc254db197",
   "metadata": {
    "language": "sql",
    "name": "VERIFY_MASKING_ACCOUNTADMIN"
   },
   "outputs": [],
   "source": "--Verify masking policy using ACCOUNTADMIN - data is protected\nUSE ROLE ACCOUNTADMIN;\n\nSELECT PATIENT_ID, PATIENT_MRN, PATIENT_SSN, PATIENT_DRIVERS_LICENSE_NUM, PATIENT_PASSPORT_NUM, PATIENT_BIRTH_DT, \nPATIENT_BIRTH_SEX, PATIENT_BIRTH_CITY, PATIENT_FIRST_NM, PATIENT_LAST_NM, PATIENT_MOTHERS_MAIDEN_NAME \nFROM HL7_FHIR.HL7_FHIR_R4.PATIENTS_VW\nLIMIT 10;",
   "execution_count": null
  },
  {
   "cell_type": "markdown",
   "id": "d919e644-8003-4586-9b9a-92e51ea6d1d7",
   "metadata": {
    "name": "ANALYTICS",
    "collapsed": false
   },
   "source": "Analytics/Visualization with Streamlit"
  },
  {
   "cell_type": "code",
   "id": "7981316c-26fd-4417-a127-5c4f1946b347",
   "metadata": {
    "language": "sql",
    "name": "PATIENTS_BY_CONDITION_BY_GENDER"
   },
   "outputs": [],
   "source": "SELECT PATIENTS_VW.PATIENT_SEX, CONDITIONS_VW.CONDITION_DESC, COUNT(*) AS PATIENT_COUNT\nFROM PATIENTS_VW\nJOIN CONDITIONS_VW ON PATIENTS_VW.PATIENT_ID=CONDITIONS_VW.PATIENT_ID\nGROUP BY PATIENT_SEX, CONDITION_DESC\nORDER BY PATIENT_COUNT DESC;\n",
   "execution_count": null
  },
  {
   "cell_type": "code",
   "id": "8b663838-2811-4d04-bffd-ebb57644471b",
   "metadata": {
    "language": "python",
    "name": "VIZ_PATIENTS_BY_CONDITION_BY_GENDER"
   },
   "outputs": [],
   "source": "import streamlit as st\nimport pandas as pd\n\npcg_data = PATIENTS_BY_CONDITION_BY_GENDER.to_pandas()  # utilizes output from the sql cell above\nst.header(\"Patients By Condition By Gender\")\nst.bar_chart(pcg_data, x=\"CONDITION_DESC\", y=\"PATIENT_COUNT\", color=\"PATIENT_SEX\", horizontal=False, stack=False)\n",
   "execution_count": null
  },
  {
   "cell_type": "code",
   "id": "0873ffd5-58ab-405d-9801-5231aeef2812",
   "metadata": {
    "language": "python",
    "name": "VIZ_PCG_PLOTLY"
   },
   "outputs": [],
   "source": "import plotly.express as px\nimport streamlit as st\nimport pandas as pd\n\npcg_data = PATIENTS_BY_CONDITION_BY_GENDER.to_pandas()  \n\nfig = px.scatter(\n    pcg_data,\n    x=\"PATIENT_SEX\",\n    y=\"PATIENT_COUNT\",\n    size=\"PATIENT_COUNT\",\n    color=\"CONDITION_DESC\",\n    #hover_name=\"PATIENT_COUNT\",\n    log_y=True,\n    size_max=60,\n)\n\nst.header(\"Patients By Condition By Gender\")\nst.plotly_chart(fig, theme=\"streamlit\", use_container_width=True)\n",
   "execution_count": null
  },
  {
   "cell_type": "code",
   "id": "e9a452ee-71e9-4c89-a68c-eb7d6c2b82e6",
   "metadata": {
    "language": "sql",
    "name": "PATIENTS_BY_CORE_RACE"
   },
   "outputs": [],
   "source": "SELECT PATIENT_CORE_RACE, COUNT(*) AS PATIENT_COUNT\nFROM PATIENTS_VW\nGROUP BY PATIENT_CORE_RACE\nORDER BY PATIENT_COUNT DESC;",
   "execution_count": null
  },
  {
   "cell_type": "code",
   "id": "d4309fbe-64c3-4960-8c42-6d1390039374",
   "metadata": {
    "language": "python",
    "name": "VIZ_PATIENTS_BY_CORE_RACE"
   },
   "outputs": [],
   "source": "import streamlit as st\nimport pandas as pd\n\npcr_data = PATIENTS_BY_CORE_RACE.to_pandas() \nst.header(\"Patients By Condition By Gender\")\nst.bar_chart(pcr_data, x=\"PATIENT_CORE_RACE\", y=\"PATIENT_COUNT\", color=\"#FF991C\", horizontal=True)",
   "execution_count": null
  },
  {
   "cell_type": "code",
   "id": "8c93caa5-1fb7-4e30-b376-8300784c096b",
   "metadata": {
    "language": "sql",
    "name": "TOTAL_PATIENTS"
   },
   "outputs": [],
   "source": "SELECT COUNT(*) AS TOTAL_NUMBER_OF_PATIENTS FROM PATIENTS_VW;",
   "execution_count": null
  }
 ]
}